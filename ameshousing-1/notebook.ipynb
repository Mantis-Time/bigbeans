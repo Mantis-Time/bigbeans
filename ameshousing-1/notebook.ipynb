{
 "cells": [
  {
   "cell_type": "markdown",
   "id": "93edecdd",
   "metadata": {},
   "source": [
    "# Ames Housing: Predicting House Prices\n",
    "\n"
   ]
  },
  {
   "cell_type": "markdown",
   "id": "d77bafbf",
   "metadata": {},
   "source": [
    "## Get the training dataset\n",
    "\n"
   ]
  },
  {
   "cell_type": "code",
   "execution_count": null,
   "id": "063e7bd0",
   "metadata": {},
   "outputs": [],
   "source": [
    "!pip install -q -U bigbeans"
   ]
  },
  {
   "cell_type": "code",
   "execution_count": null,
   "id": "49d023b8",
   "metadata": {},
   "outputs": [],
   "source": [
    "import bigbeans\n",
    "X_train, y_train = bigbeans.fetch(\"ameshousing-1\")\n",
    "X_train.head()"
   ]
  },
  {
   "cell_type": "markdown",
   "id": "fedb6427",
   "metadata": {},
   "source": [
    "## Submission Template for ameshousing-1\n",
    "\n"
   ]
  },
  {
   "cell_type": "code",
   "execution_count": null,
   "id": "390e4664",
   "metadata": {},
   "outputs": [],
   "source": [
    "class AmesHousingValuePredictor:\n",
    "    \"\"\"\n",
    "    This class is the main class that you need to implement.\n",
    "    Initialize any parameters that you need in the constructor.\n",
    "    \"\"\"\n",
    "    def __init__(self):\n",
    "        pass\n",
    "\n",
    "    \"\"\"\n",
    "    Implement the fit method to train your model.\n",
    "    :param X_train: a pandas.DataFrame with the training dataset. each row is a house and each column is a feature\n",
    "    :param y_train: a pandas.Series with the labels of the training dataset. each label is the house price in the corresponding row\n",
    "    \"\"\"\n",
    "    def fit(self, X_train, y_train):\n",
    "        pass\n",
    "\n",
    "    \"\"\"\n",
    "    Predict the house price for each house in the test dataset.\n",
    "    :param X_test: a pandas.DataFrame with the test dataset\n",
    "    :return: a 1D array-like object with the predicted house prices\n",
    "    \"\"\"\n",
    "    def predict(self, X_test):\n",
    "        pass\n"
   ]
  }
 ],
 "metadata": {},
 "nbformat": 4,
 "nbformat_minor": 5
}
