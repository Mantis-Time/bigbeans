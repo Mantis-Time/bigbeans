{
 "cells": [
  {
   "cell_type": "markdown",
   "id": "64ff4de1",
   "metadata": {},
   "source": [
    "# Ames Housing: Predicting House Prices\n",
    "\n"
   ]
  },
  {
   "cell_type": "markdown",
   "id": "4550e347",
   "metadata": {},
   "source": [
    "## Get the training dataset\n",
    "\n"
   ]
  },
  {
   "cell_type": "code",
   "execution_count": null,
   "id": "a115d681",
   "metadata": {},
   "outputs": [],
   "source": [
    "!pip install -q -U bigbeans"
   ]
  },
  {
   "cell_type": "code",
   "execution_count": null,
   "id": "e5199fb5",
   "metadata": {},
   "outputs": [],
   "source": [
    "import bigbeans\n",
    "X_train, y_train = bigbeans.fetch(\"ameshousing-1\")"
   ]
  },
  {
   "cell_type": "markdown",
   "id": "1dc1043a",
   "metadata": {},
   "source": [
    "## Play around with the data\n",
    "\n"
   ]
  },
  {
   "cell_type": "code",
   "execution_count": null,
   "id": "3faf2e8d",
   "metadata": {},
   "outputs": [],
   "source": [
    "X_train, y_train"
   ]
  },
  {
   "cell_type": "code",
   "execution_count": null,
   "id": "7e77ca14",
   "metadata": {},
   "outputs": [],
   "source": [
    "# Your code here\n"
   ]
  },
  {
   "cell_type": "markdown",
   "id": "eb5106f2",
   "metadata": {},
   "source": [
    "## Prepare your submission\n",
    "\n"
   ]
  },
  {
   "cell_type": "markdown",
   "id": "5424e4dd",
   "metadata": {},
   "source": [
    "\n",
    "## Submission Template for Ames Housing: Predicting House Prices\n",
    "Once you have played around with the data, \n",
    "built a model and are ready to test it, you can prepare your submission by using the following code snippet. \n",
    "Fill in the functions with your solution and copy the cell into the submission for this problem on \n",
    "[BigBeans](http://bigbeans.ai/problems/ameshousing-1).\n",
    "\n",
    "**Note**: Do not change the function names or the function signatures. \n",
    " \n",
    "Make sure that the cell is **self-contained** and does not depend on any other cells in the notebook. \n"
   ]
  },
  {
   "cell_type": "code",
   "execution_count": null,
   "id": "b21d0e69",
   "metadata": {},
   "outputs": [],
   "source": [
    "class AmesHousingValuePredictor:\n",
    "    \"\"\"\n",
    "    This class is the main class that you need to implement.\n",
    "    Initialize any parameters that you need in the constructor.\n",
    "    \"\"\"\n",
    "    def __init__(self):\n",
    "        pass\n",
    "\n",
    "    \"\"\"\n",
    "    Implement the fit method to train your model.\n",
    "    :param X_train: a pandas.DataFrame with the training dataset. each row is a house and each column is a feature\n",
    "    :param y_train: a pandas.Series with the labels of the training dataset. each label is the house price in the corresponding row\n",
    "    \"\"\"\n",
    "    def fit(self, X_train, y_train):\n",
    "        pass\n",
    "\n",
    "    \"\"\"\n",
    "    Predict the house price for each house in the test dataset.\n",
    "    :param X_test: a pandas.DataFrame with the test dataset\n",
    "    :return: a 1D array-like object with the predicted house prices\n",
    "    \"\"\"\n",
    "    def predict(self, X_test):\n",
    "        pass\n"
   ]
  }
 ],
 "metadata": {},
 "nbformat": 4,
 "nbformat_minor": 5
}
