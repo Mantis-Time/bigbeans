{
 "cells": [
  {
   "cell_type": "markdown",
   "id": "9d5494b1",
   "metadata": {},
   "source": [
    "# Iris: Predicting Iris Flower Types\n",
    "\n"
   ]
  },
  {
   "cell_type": "markdown",
   "id": "179a756d",
   "metadata": {},
   "source": [
    "## Get the training dataset\n",
    "\n"
   ]
  },
  {
   "cell_type": "code",
   "execution_count": null,
   "id": "4673afaf",
   "metadata": {},
   "outputs": [],
   "source": [
    "!pip install -q -U bigbeans"
   ]
  },
  {
   "cell_type": "code",
   "execution_count": null,
   "id": "0d0525e4",
   "metadata": {},
   "outputs": [],
   "source": [
    "import bigbeans\n",
    "X_train, y_train = bigbeans.fetch(\"iris\")\n",
    "X_train.head()"
   ]
  },
  {
   "cell_type": "markdown",
   "id": "a89d3963",
   "metadata": {},
   "source": [
    "## Submission Template for iris\n",
    "\n"
   ]
  },
  {
   "cell_type": "code",
   "execution_count": null,
   "id": "f204b9c4",
   "metadata": {},
   "outputs": [],
   "source": [
    "class IrisFlowerClassifier:\n",
    "    \"\"\"\n",
    "    A classifier for Iris dataset.\n",
    "    Initialize any parameters you need in the constructor.\n",
    "    Do not change the method signatures of `train` and `predict`.\n",
    "    \"\"\"\n",
    "\n",
    "    def __init__(self):\n",
    "        pass\n",
    "\n",
    "    \"\"\"\n",
    "    Implement the fit method to train the model.\n",
    "    :param X_train: a pandas.DataFrame with the training dataset. each row is a flower and each column is a feature\n",
    "    :param y_train: a pandas.Series with the labels of the training dataset. each label can be 0 or 1 indicating the class of the flower.\n",
    "    \"\"\"\n",
    "\n",
    "    def train(self, X_train, y_train):\n",
    "        pass\n",
    "\n",
    "    \"\"\"\n",
    "    Implement the predict method to make predictions.\n",
    "    :param X_test: a pandas.DataFrame with the test dataset\n",
    "    :return: a 1d numpy array with the predictions for the test dataset. each prediction can be 0 or 1.\n",
    "    \"\"\"\n",
    "\n",
    "    def predict(self, X_test):\n",
    "        pass\n"
   ]
  }
 ],
 "metadata": {},
 "nbformat": 4,
 "nbformat_minor": 5
}
