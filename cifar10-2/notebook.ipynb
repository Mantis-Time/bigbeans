{
 "cells": [
  {
   "cell_type": "markdown",
   "id": "e42a7bdb",
   "metadata": {},
   "source": [
    "# CIFAR-10: Image Classification II\n",
    "\n"
   ]
  },
  {
   "cell_type": "markdown",
   "id": "bbf76767",
   "metadata": {},
   "source": [
    "## Get the training dataset\n",
    "\n"
   ]
  },
  {
   "cell_type": "code",
   "execution_count": null,
   "id": "dcb47ec0",
   "metadata": {},
   "outputs": [],
   "source": [
    "!pip install -q -U bigbeans"
   ]
  },
  {
   "cell_type": "code",
   "execution_count": null,
   "id": "106633f1",
   "metadata": {},
   "outputs": [],
   "source": [
    "import bigbeans\n",
    "X_train, y_train = bigbeans.fetch(\"cifar10-ii\")"
   ]
  },
  {
   "cell_type": "markdown",
   "id": "dbe2c261",
   "metadata": {},
   "source": [
    "## Play around with the data\n",
    "\n"
   ]
  },
  {
   "cell_type": "code",
   "execution_count": null,
   "id": "6b9b3ad4",
   "metadata": {},
   "outputs": [],
   "source": [
    "X_train, y_train"
   ]
  },
  {
   "cell_type": "code",
   "execution_count": null,
   "id": "c35d12f7",
   "metadata": {},
   "outputs": [],
   "source": [
    "# Your code here\n"
   ]
  },
  {
   "cell_type": "markdown",
   "id": "07c076a6",
   "metadata": {},
   "source": [
    "## Prepare your submission\n",
    "\n"
   ]
  },
  {
   "cell_type": "markdown",
   "id": "969cddd6",
   "metadata": {},
   "source": [
    "\n",
    "## Submission Template for CIFAR-10: Image Classification II\n",
    "Once you have played around with the data, \n",
    "built a model and are ready to test it, you can prepare your submission by using the following code snippet. \n",
    "Fill in the functions with your solution and copy the cell into the submission for this problem on \n",
    "[BigBeans](http://bigbeans.ai/problems/cifar10-ii).\n",
    "\n",
    "**Note**: Do not change the function names or the function signatures. \n",
    " \n",
    "Make sure that the cell is **self-contained** and does not depend on any other cells in the notebook. \n"
   ]
  },
  {
   "cell_type": "code",
   "execution_count": null,
   "id": "fb0d50af",
   "metadata": {},
   "outputs": [],
   "source": [
    "class CIFAR10Classifier:\n",
    "    \"\"\"\n",
    "    CIFAR10Classifier is a classifier for CIFAR-10 dataset.\n",
    "    \"\"\"\n",
    "    def __init__(self):\n",
    "        pass\n",
    "\n",
    "    \"\"\"\n",
    "    Implement the fit method to train your model.\n",
    "    :param X: a 4D numpy array with the training dataset. \n",
    "    The shape of the array is (50000, 32, 32, 3), where 50,000 is the number of samples in the training dataset.\n",
    "    :param y: a 1D numpy array with the labels for the training dataset.\n",
    "    Each label is an integer from 0 to 9.\n",
    "    \"\"\"\n",
    "    def fit(self, X, y):\n",
    "        pass\n",
    "\n",
    "    \"\"\"\n",
    "    Implement the predict method to make predictions for the test dataset.\n",
    "    :param X: a 4D numpy array with the test dataset.\n",
    "    The shape of the array is (10000, 32, 32, 3), where 10,000 is the number of samples in the test dataset.\n",
    "    :return: a 1D numpy array with the predictions for the test dataset.\n",
    "    Each element in the array is an integer from 0 to 9.\n",
    "    \"\"\"\n",
    "    def predict(self, X):\n",
    "        pass\n"
   ]
  }
 ],
 "metadata": {},
 "nbformat": 4,
 "nbformat_minor": 5
}
