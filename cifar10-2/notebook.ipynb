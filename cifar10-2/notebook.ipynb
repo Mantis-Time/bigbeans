{
 "cells": [
  {
   "cell_type": "markdown",
   "id": "247dbf04",
   "metadata": {},
   "source": [
    "# CIFAR-10: Image Classification II\n",
    "\n"
   ]
  },
  {
   "cell_type": "markdown",
   "id": "2811ad86",
   "metadata": {},
   "source": [
    "## Get the training dataset\n",
    "\n"
   ]
  },
  {
   "cell_type": "code",
   "execution_count": null,
   "id": "de3713cd",
   "metadata": {},
   "outputs": [],
   "source": [
    "!pip install -q -U bigbeans"
   ]
  },
  {
   "cell_type": "code",
   "execution_count": null,
   "id": "1d9e0534",
   "metadata": {},
   "outputs": [],
   "source": [
    "import bigbeans\n",
    "X_train, y_train = bigbeans.fetch(\"cifar10-ii\")\n",
    "X_train.head()"
   ]
  },
  {
   "cell_type": "markdown",
   "id": "b1794452",
   "metadata": {},
   "source": [
    "## Submission Template for cifar10-ii\n",
    "\n"
   ]
  },
  {
   "cell_type": "code",
   "execution_count": null,
   "id": "f7611228",
   "metadata": {},
   "outputs": [],
   "source": [
    "class CIFAR10Classifier:\n",
    "    \"\"\"\n",
    "    CIFAR10Classifier is a classifier for CIFAR-10 dataset.\n",
    "    \"\"\"\n",
    "    def __init__(self):\n",
    "        pass\n",
    "\n",
    "    \"\"\"\n",
    "    Implement the fit method to train your model.\n",
    "    :param X: a 4D numpy array with the training dataset. \n",
    "    The shape of the array is (50000, 32, 32, 3), where 50,000 is the number of samples in the training dataset.\n",
    "    :param y: a 1D numpy array with the labels for the training dataset.\n",
    "    Each label is an integer from 0 to 9.\n",
    "    \"\"\"\n",
    "    def fit(self, X, y):\n",
    "        pass\n",
    "\n",
    "    \"\"\"\n",
    "    Implement the predict method to make predictions for the test dataset.\n",
    "    :param X: a 4D numpy array with the test dataset.\n",
    "    The shape of the array is (10000, 32, 32, 3), where 10,000 is the number of samples in the test dataset.\n",
    "    :return: a 1D numpy array with the predictions for the test dataset.\n",
    "    Each element in the array is an integer from 0 to 9.\n",
    "    \"\"\"\n",
    "    def predict(self, X):\n",
    "        pass\n"
   ]
  }
 ],
 "metadata": {},
 "nbformat": 4,
 "nbformat_minor": 5
}
