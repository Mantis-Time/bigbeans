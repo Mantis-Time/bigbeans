{
 "cells": [
  {
   "cell_type": "markdown",
   "id": "834e4eab",
   "metadata": {},
   "source": [
    "# Titanic Survivor Predictor\n",
    "\n"
   ]
  },
  {
   "cell_type": "markdown",
   "id": "fb79fd6d",
   "metadata": {},
   "source": [
    "## Get the training dataset\n",
    "\n"
   ]
  },
  {
   "cell_type": "code",
   "execution_count": null,
   "id": "79e4d0aa",
   "metadata": {},
   "outputs": [],
   "source": [
    "!pip install -q -U bigbeans"
   ]
  },
  {
   "cell_type": "code",
   "execution_count": null,
   "id": "eb258d3c",
   "metadata": {},
   "outputs": [],
   "source": [
    "import bigbeans\n",
    "X_train, y_train = bigbeans.fetch(\"titanic-1\")\n",
    "X_train.head()"
   ]
  },
  {
   "cell_type": "markdown",
   "id": "dc44cc7d",
   "metadata": {},
   "source": [
    "## Submission Template for titanic-1\n",
    "\n"
   ]
  },
  {
   "cell_type": "code",
   "execution_count": null,
   "id": "c37623fa",
   "metadata": {},
   "outputs": [],
   "source": [
    "class TitanicSurvivorPredictor:\n",
    "    \"\"\"\n",
    "    This class is the main class that you need to implement.\n",
    "    The constructor should receive the parameters that you need to train your model.\n",
    "    \"\"\"\n",
    "\n",
    "    def __init__(self, **kwargs):\n",
    "        pass\n",
    "\n",
    "    \"\"\"\n",
    "    Implement the fit method to train your model.\n",
    "    :param X: a pandas.DataFrame with the training dataset. each row is a passenger and each column is a feature\n",
    "    :param y: a pandas.DataFrame with the labels of the training dataset. each label can be 0 or 1\n",
    "    \"\"\"\n",
    "\n",
    "    def fit(self, X, y):\n",
    "        pass\n",
    "\n",
    "    \"\"\"\n",
    "    :param X: a pandas.DataFrame with the test dataset\n",
    "    :return: a 1d numpy array with the predictions where 0 means that the passenger did not survive and 1 means that the passenger survived.\n",
    "    \"\"\"\n",
    "\n",
    "    def predict(self, X):\n",
    "        pass\n"
   ]
  }
 ],
 "metadata": {},
 "nbformat": 4,
 "nbformat_minor": 5
}
