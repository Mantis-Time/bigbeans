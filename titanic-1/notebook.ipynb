{
 "cells": [
  {
   "cell_type": "markdown",
   "id": "4a22917b",
   "metadata": {},
   "source": [
    "# Titanic Survivor Predictor\n",
    "\n"
   ]
  },
  {
   "cell_type": "markdown",
   "id": "2a57246a",
   "metadata": {},
   "source": [
    "## Get the training dataset\n",
    "\n"
   ]
  },
  {
   "cell_type": "code",
   "execution_count": null,
   "id": "2120f265",
   "metadata": {},
   "outputs": [],
   "source": [
    "!pip install -q -U bigbeans"
   ]
  },
  {
   "cell_type": "code",
   "execution_count": null,
   "id": "6417debe",
   "metadata": {},
   "outputs": [],
   "source": [
    "import bigbeans\n",
    "X_train, y_train = bigbeans.fetch(\"titanic-1\")"
   ]
  },
  {
   "cell_type": "markdown",
   "id": "df99174c",
   "metadata": {},
   "source": [
    "## Play around with the data\n",
    "\n"
   ]
  },
  {
   "cell_type": "code",
   "execution_count": null,
   "id": "a21ae0e7",
   "metadata": {},
   "outputs": [],
   "source": [
    "X_train, y_train"
   ]
  },
  {
   "cell_type": "code",
   "execution_count": null,
   "id": "fa3f9287",
   "metadata": {},
   "outputs": [],
   "source": [
    "# Your code here\n"
   ]
  },
  {
   "cell_type": "markdown",
   "id": "f2245b7c",
   "metadata": {},
   "source": [
    "## Prepare your submission\n",
    "\n"
   ]
  },
  {
   "cell_type": "markdown",
   "id": "d2deb9ee",
   "metadata": {},
   "source": [
    "\n",
    "## Submission Template for Titanic Survivor Predictor\n",
    "Once you have played around with the data, \n",
    "built a model and are ready to test it, you can prepare your submission by using the following code snippet. \n",
    "Fill in the functions with your solution and copy the cell into the submission for this problem on \n",
    "[BigBeans](http://bigbeans.ai/problems/titanic-1).\n",
    "\n",
    "**Note**: Do not change the function names or the function signatures. \n",
    " \n",
    "Make sure that the cell is **self-contained** and does not depend on any other cells in the notebook. \n"
   ]
  },
  {
   "cell_type": "code",
   "execution_count": null,
   "id": "ee69f1d6",
   "metadata": {},
   "outputs": [],
   "source": [
    "class TitanicSurvivorPredictor:\n",
    "    \"\"\"\n",
    "    This class is the main class that you need to implement.\n",
    "    The constructor should receive the parameters that you need to train your model.\n",
    "    \"\"\"\n",
    "\n",
    "    def __init__(self, **kwargs):\n",
    "        pass\n",
    "\n",
    "    \"\"\"\n",
    "    Implement the fit method to train your model.\n",
    "    :param X: a pandas.DataFrame with the training dataset. each row is a passenger and each column is a feature\n",
    "    :param y: a pandas.Series with the labels of the training dataset. each label can be 0 or 1\n",
    "    \"\"\"\n",
    "\n",
    "    def fit(self, X, y):\n",
    "        pass\n",
    "\n",
    "    \"\"\"\n",
    "    :param X: a pandas.DataFrame with the test dataset\n",
    "    :return: a 1d numpy array with the predictions where 0 means that the passenger did not survive and 1 means that the passenger survived.\n",
    "    \"\"\"\n",
    "\n",
    "    def predict(self, X):\n",
    "        pass\n"
   ]
  }
 ],
 "metadata": {},
 "nbformat": 4,
 "nbformat_minor": 5
}
