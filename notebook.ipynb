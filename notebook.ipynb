{
 "cells": [
  {
   "cell_type": "code",
   "execution_count": null,
   "id": "af5ffd4f",
   "metadata": {},
   "outputs": [],
   "source": [
    "import numpy as np\n",
    "import pandas as pd\n",
    "from sklearn.compose import ColumnTransformer\n",
    "from sklearn.pipeline import make_pipeline\n",
    "from sklearn.preprocessing import FunctionTransformer, StandardScaler\n",
    "\n",
    "from sklearn import set_config\n",
    "set_config(transform_output = \"pandas\")\n",
    "\n",
    "\n"
   ]
  },
  {
   "cell_type": "markdown",
   "id": "8fae6a5e",
   "metadata": {},
   "source": [
    "# Submission Template for Problem seoul-bike-sharing-demand\n",
    "\n"
   ]
  },
  {
   "cell_type": "code",
   "execution_count": null,
   "id": "79dab746",
   "metadata": {},
   "outputs": [],
   "source": [
    "import pandas as pd\n",
    "\n",
    "\n",
    "class SeoulBikeSharingDemandPredictor:\n",
    "    \"\"\"\n",
    "    This is a template for the submission. You can use this class to implement your solution.\n",
    "    \"\"\"\n",
    "\n",
    "    def __init__(self):\n",
    "        pass\n",
    "\n",
    "    \"\"\"\n",
    "    Implement the fit method to train your model.\n",
    "    :param X: a pandas.DataFrame with the training dataset. each row represents bike rentals recorded \n",
    "    for a given hour/day and each column is a feature\n",
    "    :param y: a pandas.Series with the labels of the training dataset. each label is the number of bikes \n",
    "    rented in the corresponding row\n",
    "    \"\"\"\n",
    "\n",
    "    def fit(self, X: pd.DataFrame, y: pd.Series):\n",
    "        pass\n",
    "\n",
    "    \"\"\"\n",
    "    Predict the number of bikes rented for each row in the test dataset.\n",
    "    :param X: a pandas.DataFrame with the test dataset\n",
    "    :return: a pandas.Series with the predictions where each value is the number of bikes rented for the corresponding \n",
    "    row in the test dataset\n",
    "    \"\"\"\n",
    "\n",
    "    def predict(self, X: pd.DataFrame):\n",
    "        pass\n"
   ]
  }
 ],
 "metadata": {},
 "nbformat": 4,
 "nbformat_minor": 5
}
