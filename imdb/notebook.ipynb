{
 "cells": [
  {
   "cell_type": "markdown",
   "id": "c7614375",
   "metadata": {},
   "source": [
    "# IMDB Movie Review Sentiment Analysis\n",
    "\n"
   ]
  },
  {
   "cell_type": "markdown",
   "id": "5821e650",
   "metadata": {},
   "source": [
    "## Get the training dataset\n",
    "\n"
   ]
  },
  {
   "cell_type": "code",
   "execution_count": null,
   "id": "da1ab057",
   "metadata": {},
   "outputs": [],
   "source": [
    "!pip install -q -U bigbeans"
   ]
  },
  {
   "cell_type": "code",
   "execution_count": null,
   "id": "5d23ff34",
   "metadata": {},
   "outputs": [],
   "source": [
    "import bigbeans\n",
    "X_train, y_train = bigbeans.fetch(\"imdb\")\n",
    "X_train.head()"
   ]
  },
  {
   "cell_type": "markdown",
   "id": "f9f37564",
   "metadata": {},
   "source": [
    "## Submission Template for imdb\n",
    "\n"
   ]
  },
  {
   "cell_type": "code",
   "execution_count": null,
   "id": "023b036a",
   "metadata": {},
   "outputs": [],
   "source": [
    "class IMDBSentimentClassifier:\n",
    "    \"\"\"\n",
    "    Implement a sentiment classifier for the IMDB dataset.\n",
    "    \"\"\"\n",
    "\n",
    "    def __init__(self):\n",
    "        pass\n",
    "\n",
    "    \"\"\"\n",
    "    Implement the fit method to train your model.\n",
    "    :param X: a 1D array-like with the training dataset. each element is a movie review.\n",
    "    :param y: a 1D numpy array with the labels for the training dataset. each element is a label ('0' or 1). 0 for negative and 1 for positive.\n",
    "    \"\"\"\n",
    "\n",
    "    def fit(self, X, y):\n",
    "        pass\n",
    "\n",
    "    \"\"\"\n",
    "    Implement the predict method to predict the sentiment of the reviews.\n",
    "    :param X: a 1D array-like with the reviews to predict.\n",
    "    :return: a 1D numpy array with the predicted labels. each element is a label ('0' or 1). 0 for negative and 1 for positive.\n",
    "    \"\"\"\n",
    "\n",
    "    def predict(self, X):\n",
    "        pass\n"
   ]
  }
 ],
 "metadata": {},
 "nbformat": 4,
 "nbformat_minor": 5
}
