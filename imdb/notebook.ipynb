{
 "cells": [
  {
   "cell_type": "markdown",
   "id": "4b511439",
   "metadata": {},
   "source": [
    "# IMDB Movie Review Sentiment Analysis\n",
    "\n"
   ]
  },
  {
   "cell_type": "markdown",
   "id": "94c52a29",
   "metadata": {},
   "source": [
    "## Get the training dataset\n",
    "\n"
   ]
  },
  {
   "cell_type": "code",
   "execution_count": null,
   "id": "e3afbf26",
   "metadata": {},
   "outputs": [],
   "source": [
    "!pip install -q -U bigbeans"
   ]
  },
  {
   "cell_type": "code",
   "execution_count": null,
   "id": "3854ed09",
   "metadata": {},
   "outputs": [],
   "source": [
    "import bigbeans\n",
    "X_train, y_train = bigbeans.fetch(\"imdb\")"
   ]
  },
  {
   "cell_type": "markdown",
   "id": "b39b54d3",
   "metadata": {},
   "source": [
    "## Play around with the data\n",
    "\n"
   ]
  },
  {
   "cell_type": "code",
   "execution_count": null,
   "id": "46239682",
   "metadata": {},
   "outputs": [],
   "source": [
    "X_train, y_train"
   ]
  },
  {
   "cell_type": "code",
   "execution_count": null,
   "id": "a560bfd1",
   "metadata": {},
   "outputs": [],
   "source": [
    "# Your code here\n"
   ]
  },
  {
   "cell_type": "markdown",
   "id": "f63bcde3",
   "metadata": {},
   "source": [
    "## Prepare your submission\n",
    "\n"
   ]
  },
  {
   "cell_type": "markdown",
   "id": "10021cf9",
   "metadata": {},
   "source": [
    "\n",
    "## Submission Template for IMDB Movie Review Sentiment Analysis\n",
    "Once you have played around with the data, \n",
    "built a model and are ready to test it, you can prepare your submission by using the following code snippet. \n",
    "Fill in the functions with your solution and copy the cell into the submission for this problem on \n",
    "[BigBeans](http://bigbeans.ai/problems/imdb).\n",
    "\n",
    "**Note**: Do not change the function names or the function signatures. \n",
    " \n",
    "Make sure that the cell is **self-contained** and does not depend on any other cells in the notebook. \n"
   ]
  },
  {
   "cell_type": "code",
   "execution_count": null,
   "id": "bb9231c2",
   "metadata": {},
   "outputs": [],
   "source": [
    "class IMDBSentimentClassifier:\n",
    "    \"\"\"\n",
    "    Implement a sentiment classifier for the IMDB dataset.\n",
    "    \"\"\"\n",
    "\n",
    "    def __init__(self):\n",
    "        pass\n",
    "\n",
    "    \"\"\"\n",
    "    Implement the fit method to train your model.\n",
    "    :param X: a 1D array-like with the training dataset. each element is a movie review.\n",
    "    :param y: a 1D numpy array with the labels for the training dataset. each element is a label ('0' or 1). 0 for negative and 1 for positive.\n",
    "    \"\"\"\n",
    "\n",
    "    def fit(self, X, y):\n",
    "        pass\n",
    "\n",
    "    \"\"\"\n",
    "    Implement the predict method to predict the sentiment of the reviews.\n",
    "    :param X: a 1D array-like with the reviews to predict.\n",
    "    :return: a 1D numpy array with the predicted labels. each element is a label ('0' or 1). 0 for negative and 1 for positive.\n",
    "    \"\"\"\n",
    "\n",
    "    def predict(self, X):\n",
    "        pass\n"
   ]
  }
 ],
 "metadata": {},
 "nbformat": 4,
 "nbformat_minor": 5
}
