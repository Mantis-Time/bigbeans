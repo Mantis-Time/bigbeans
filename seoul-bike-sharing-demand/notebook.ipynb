{
 "cells": [
  {
   "cell_type": "markdown",
   "id": "4dfb7fc7",
   "metadata": {},
   "source": [
    "# Seoul Bike Sharing Demand\n",
    "\n"
   ]
  },
  {
   "cell_type": "markdown",
   "id": "d9c53032",
   "metadata": {},
   "source": [
    "## Get the dataset\n",
    "\n"
   ]
  },
  {
   "cell_type": "code",
   "execution_count": null,
   "id": "ed46e526",
   "metadata": {},
   "outputs": [],
   "source": [
    "!pip install -q -U bigbeans"
   ]
  },
  {
   "cell_type": "code",
   "execution_count": null,
   "id": "33d23d81",
   "metadata": {},
   "outputs": [],
   "source": [
    "X_train, y_train = bigbeans.fetch(seoul-bike-sharing-demand)"
   ]
  },
  {
   "cell_type": "markdown",
   "id": "0d5ac85f",
   "metadata": {},
   "source": [
    "## Submission Template for Problem seoul-bike-sharing-demand\n",
    "\n"
   ]
  },
  {
   "cell_type": "code",
   "execution_count": null,
   "id": "e1e1ce69",
   "metadata": {},
   "outputs": [],
   "source": [
    "import pandas as pd\n",
    "\n",
    "\n",
    "class SeoulBikeSharingDemandPredictor:\n",
    "    \"\"\"\n",
    "    This is a template for the submission. You can use this class to implement your solution.\n",
    "    \"\"\"\n",
    "\n",
    "    def __init__(self):\n",
    "        pass\n",
    "\n",
    "    \"\"\"\n",
    "    Implement the fit method to train your model.\n",
    "    :param X: a pandas.DataFrame with the training dataset. each row represents bike rentals recorded \n",
    "    for a given hour/day and each column is a feature\n",
    "    :param y: a pandas.Series with the labels of the training dataset. each label is the number of bikes \n",
    "    rented in the corresponding row\n",
    "    \"\"\"\n",
    "\n",
    "    def fit(self, X: pd.DataFrame, y: pd.Series):\n",
    "        pass\n",
    "\n",
    "    \"\"\"\n",
    "    Predict the number of bikes rented for each row in the test dataset.\n",
    "    :param X: a pandas.DataFrame with the test dataset\n",
    "    :return: a pandas.Series with the predictions where each value is the number of bikes rented for the corresponding \n",
    "    row in the test dataset\n",
    "    \"\"\"\n",
    "\n",
    "    def predict(self, X: pd.DataFrame):\n",
    "        pass\n"
   ]
  }
 ],
 "metadata": {},
 "nbformat": 4,
 "nbformat_minor": 5
}
