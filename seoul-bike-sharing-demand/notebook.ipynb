{
 "cells": [
  {
   "cell_type": "markdown",
   "id": "1c62c488",
   "metadata": {},
   "source": [
    "# Seoul Bike Sharing Demand\n",
    "\n"
   ]
  },
  {
   "cell_type": "markdown",
   "id": "b16ad43b",
   "metadata": {},
   "source": [
    "## Get the training dataset\n",
    "\n"
   ]
  },
  {
   "cell_type": "code",
   "execution_count": null,
   "id": "d329b319",
   "metadata": {},
   "outputs": [],
   "source": [
    "!pip install -q -U bigbeans"
   ]
  },
  {
   "cell_type": "code",
   "execution_count": null,
   "id": "510eacb9",
   "metadata": {},
   "outputs": [],
   "source": [
    "import bigbeans\n",
    "X_train, y_train = bigbeans.fetch(\"seoul-bike-sharing-demand\")"
   ]
  },
  {
   "cell_type": "markdown",
   "id": "cc18cf3b",
   "metadata": {},
   "source": [
    "## Play around with the data\n",
    "\n"
   ]
  },
  {
   "cell_type": "code",
   "execution_count": null,
   "id": "20e961f5",
   "metadata": {},
   "outputs": [],
   "source": [
    "X_train, y_train"
   ]
  },
  {
   "cell_type": "code",
   "execution_count": null,
   "id": "b32597bc",
   "metadata": {},
   "outputs": [],
   "source": [
    "# Your code here\n"
   ]
  },
  {
   "cell_type": "markdown",
   "id": "21ca41ad",
   "metadata": {},
   "source": [
    "## Prepare your submission\n",
    "\n"
   ]
  },
  {
   "cell_type": "markdown",
   "id": "8a70f10a",
   "metadata": {},
   "source": [
    "\n",
    "## Submission Template for Seoul Bike Sharing Demand\n",
    "Once you have played around with the data, \n",
    "built a model and are ready to test it, you can prepare your submission by using the following code snippet. \n",
    "Fill in the functions with your solution and copy the cell into the submission for this problem on \n",
    "[BigBeans](http://bigbeans.ai/problems/seoul-bike-sharing-demand).\n",
    "\n",
    "**Note**: Do not change the function names or the function signatures. \n",
    " \n",
    "Make sure that the cell is **self-contained** and does not depend on any other cells in the notebook. \n"
   ]
  },
  {
   "cell_type": "code",
   "execution_count": null,
   "id": "1a4a8361",
   "metadata": {},
   "outputs": [],
   "source": [
    "import pandas as pd\n",
    "\n",
    "\n",
    "class SeoulBikeSharingDemandPredictor:\n",
    "    \"\"\"\n",
    "    This is a template for the submission. You can use this class to implement your solution.\n",
    "    \"\"\"\n",
    "\n",
    "    def __init__(self):\n",
    "        pass\n",
    "\n",
    "    \"\"\"\n",
    "    Implement the fit method to train your model.\n",
    "    :param X: a pandas.DataFrame with the training dataset. each row represents bike rentals recorded \n",
    "    for a given hour/day and each column is a feature\n",
    "    :param y: a pandas.Series with the labels of the training dataset. each label is the number of bikes \n",
    "    rented in the corresponding row\n",
    "    \"\"\"\n",
    "\n",
    "    def fit(self, X: pd.DataFrame, y: pd.Series):\n",
    "        pass\n",
    "\n",
    "    \"\"\"\n",
    "    Predict the number of bikes rented for each row in the test dataset.\n",
    "    :param X: a pandas.DataFrame with the test dataset\n",
    "    :return: a pandas.Series with the predictions where each value is the number of bikes rented for the corresponding \n",
    "    row in the test dataset\n",
    "    \"\"\"\n",
    "\n",
    "    def predict(self, X: pd.DataFrame):\n",
    "        pass\n"
   ]
  }
 ],
 "metadata": {},
 "nbformat": 4,
 "nbformat_minor": 5
}
