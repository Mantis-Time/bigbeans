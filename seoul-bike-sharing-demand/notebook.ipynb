{
 "cells": [
  {
   "cell_type": "markdown",
   "id": "d7ed1dfc",
   "metadata": {},
   "source": [
    "# Seoul Bike Sharing Demand\n",
    "\n"
   ]
  },
  {
   "cell_type": "markdown",
   "id": "bd4a74cd",
   "metadata": {},
   "source": [
    "## Get the training dataset\n",
    "\n"
   ]
  },
  {
   "cell_type": "code",
   "execution_count": null,
   "id": "65a725b8",
   "metadata": {},
   "outputs": [],
   "source": [
    "!pip install -q -U bigbeans"
   ]
  },
  {
   "cell_type": "code",
   "execution_count": null,
   "id": "03b7ecc9",
   "metadata": {},
   "outputs": [],
   "source": [
    "import bigbeans\n",
    "X_train, y_train = bigbeans.fetch(\"seoul-bike-sharing-demand\")\n",
    "X_train.head()"
   ]
  },
  {
   "cell_type": "markdown",
   "id": "ba636dc5",
   "metadata": {},
   "source": [
    "## Submission Template for seoul-bike-sharing-demand\n",
    "\n"
   ]
  },
  {
   "cell_type": "code",
   "execution_count": null,
   "id": "7fa7f0f8",
   "metadata": {},
   "outputs": [],
   "source": [
    "import pandas as pd\n",
    "\n",
    "\n",
    "class SeoulBikeSharingDemandPredictor:\n",
    "    \"\"\"\n",
    "    This is a template for the submission. You can use this class to implement your solution.\n",
    "    \"\"\"\n",
    "\n",
    "    def __init__(self):\n",
    "        pass\n",
    "\n",
    "    \"\"\"\n",
    "    Implement the fit method to train your model.\n",
    "    :param X: a pandas.DataFrame with the training dataset. each row represents bike rentals recorded \n",
    "    for a given hour/day and each column is a feature\n",
    "    :param y: a pandas.Series with the labels of the training dataset. each label is the number of bikes \n",
    "    rented in the corresponding row\n",
    "    \"\"\"\n",
    "\n",
    "    def fit(self, X: pd.DataFrame, y: pd.Series):\n",
    "        pass\n",
    "\n",
    "    \"\"\"\n",
    "    Predict the number of bikes rented for each row in the test dataset.\n",
    "    :param X: a pandas.DataFrame with the test dataset\n",
    "    :return: a pandas.Series with the predictions where each value is the number of bikes rented for the corresponding \n",
    "    row in the test dataset\n",
    "    \"\"\"\n",
    "\n",
    "    def predict(self, X: pd.DataFrame):\n",
    "        pass\n"
   ]
  }
 ],
 "metadata": {},
 "nbformat": 4,
 "nbformat_minor": 5
}
