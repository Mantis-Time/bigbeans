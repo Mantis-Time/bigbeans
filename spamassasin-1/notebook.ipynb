{
 "cells": [
  {
   "cell_type": "markdown",
   "id": "9c32f54c",
   "metadata": {},
   "source": [
    "# SpamAssassin: Spam Email Classifier\n",
    "\n"
   ]
  },
  {
   "cell_type": "markdown",
   "id": "679dc4b8",
   "metadata": {},
   "source": [
    "## Get the training dataset\n",
    "\n"
   ]
  },
  {
   "cell_type": "code",
   "execution_count": null,
   "id": "9fca15ea",
   "metadata": {},
   "outputs": [],
   "source": [
    "!pip install -q -U bigbeans"
   ]
  },
  {
   "cell_type": "code",
   "execution_count": null,
   "id": "15dcb904",
   "metadata": {},
   "outputs": [],
   "source": [
    "import bigbeans\n",
    "X_train, y_train = bigbeans.fetch(\"spamassasin-1\")"
   ]
  },
  {
   "cell_type": "markdown",
   "id": "31cea4de",
   "metadata": {},
   "source": [
    "## Play around with the data\n",
    "\n"
   ]
  },
  {
   "cell_type": "code",
   "execution_count": null,
   "id": "9a48d76e",
   "metadata": {},
   "outputs": [],
   "source": [
    "X_train, y_train"
   ]
  },
  {
   "cell_type": "code",
   "execution_count": null,
   "id": "b8cd2312",
   "metadata": {},
   "outputs": [],
   "source": [
    "# Your code here\n"
   ]
  },
  {
   "cell_type": "markdown",
   "id": "440ea97f",
   "metadata": {},
   "source": [
    "## Prepare your submission\n",
    "\n"
   ]
  },
  {
   "cell_type": "markdown",
   "id": "c596de54",
   "metadata": {},
   "source": [
    "\n",
    "## Submission Template for SpamAssassin: Spam Email Classifier\n",
    "Once you have played around with the data, \n",
    "built a model and are ready to test it, you can prepare your submission by using the following code snippet. \n",
    "Fill in the functions with your solution and copy the cell into the submission for this problem on \n",
    "[BigBeans](http://bigbeans.ai/problems/spamassasin-1).\n",
    "\n",
    "**Note**: Do not change the function names or the function signatures. \n",
    " \n",
    "Make sure that the cell is **self-contained** and does not depend on any other cells in the notebook. \n"
   ]
  },
  {
   "cell_type": "code",
   "execution_count": null,
   "id": "5a5d4bb8",
   "metadata": {},
   "outputs": [],
   "source": [
    "class SpamDetector:\n",
    "    \"\"\"\n",
    "    This is a template for the SpamDetector class. Please implement the following methods.\n",
    "    Do not change the method signatures or the method names.\n",
    "    \"\"\"\n",
    "    def __init__(self):\n",
    "        pass\n",
    "\n",
    "    \"\"\"\n",
    "    Implement the fit method to train your model.\n",
    "    :param X_train: a 1D array-like with the email content for the training dataset.\n",
    "    :param y_train: a 1D array-like with the labels for the training dataset. \n",
    "    Each label is 1 if the email is spam and 0 otherwise.\n",
    "    \"\"\"\n",
    "    def fit(self, X_train, y_train):\n",
    "        pass\n",
    "\n",
    "    \"\"\"\n",
    "    Implement the predict method to make predictions for the test dataset.\n",
    "    :param X_test: a 1D array-like with the test dataset. each element is an email content.\n",
    "    :return: a 1D array-like with the predictions for the test dataset. \n",
    "    The value of the prediction should be 1 if the email is evaluated as spam and 0 otherwise.\n",
    "    \"\"\"\n",
    "    def predict(self, X_test):\n",
    "        pass\n"
   ]
  }
 ],
 "metadata": {},
 "nbformat": 4,
 "nbformat_minor": 5
}
