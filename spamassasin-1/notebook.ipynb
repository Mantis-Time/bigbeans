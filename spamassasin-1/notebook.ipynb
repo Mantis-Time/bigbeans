{
 "cells": [
  {
   "cell_type": "markdown",
   "id": "b44c61c6",
   "metadata": {},
   "source": [
    "# SpamAssassin: Spam Email Classifier\n",
    "\n"
   ]
  },
  {
   "cell_type": "markdown",
   "id": "311f1140",
   "metadata": {},
   "source": [
    "## Get the training dataset\n",
    "\n"
   ]
  },
  {
   "cell_type": "code",
   "execution_count": null,
   "id": "82f3edb7",
   "metadata": {},
   "outputs": [],
   "source": [
    "!pip install -q -U bigbeans"
   ]
  },
  {
   "cell_type": "code",
   "execution_count": null,
   "id": "da9e5170",
   "metadata": {},
   "outputs": [],
   "source": [
    "import bigbeans\n",
    "X_train, y_train = bigbeans.fetch(\"spamassasin-1\")\n",
    "X_train.head()"
   ]
  },
  {
   "cell_type": "markdown",
   "id": "f6e5ea0c",
   "metadata": {},
   "source": [
    "## Submission Template for spamassasin-1\n",
    "\n"
   ]
  },
  {
   "cell_type": "code",
   "execution_count": null,
   "id": "9677e9b6",
   "metadata": {},
   "outputs": [],
   "source": [
    "class SpamDetector:\n",
    "    \"\"\"\n",
    "    This is a template for the SpamDetector class. Please implement the following methods.\n",
    "    Do not change the method signatures or the method names.\n",
    "    \"\"\"\n",
    "    def __init__(self):\n",
    "        pass\n",
    "\n",
    "    \"\"\"\n",
    "    Implement the fit method to train your model.\n",
    "    :param X_train: a 1D array-like with the email content for the training dataset.\n",
    "    :param y_train: a 1D array-like with the labels for the training dataset. \n",
    "    Each label is 1 if the email is spam and 0 otherwise.\n",
    "    \"\"\"\n",
    "    def fit(self, X_train, y_train):\n",
    "        pass\n",
    "\n",
    "    \"\"\"\n",
    "    Implement the predict method to make predictions for the test dataset.\n",
    "    :param X_test: a 1D array-like with the test dataset. each element is an email content.\n",
    "    :return: a 1D array-like with the predictions for the test dataset. \n",
    "    The value of the prediction should be 1 if the email is evaluated as spam and 0 otherwise.\n",
    "    \"\"\"\n",
    "    def predict(self, X_test):\n",
    "        pass\n"
   ]
  }
 ],
 "metadata": {},
 "nbformat": 4,
 "nbformat_minor": 5
}
