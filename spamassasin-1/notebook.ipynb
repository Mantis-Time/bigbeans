{
 "cells": [
  {
   "cell_type": "code",
   "execution_count": null,
   "id": "4c1cc2db",
   "metadata": {},
   "outputs": [],
   "source": [
    "import numpy as np\n",
    "import pandas as pd\n",
    "from sklearn.compose import ColumnTransformer\n",
    "from sklearn.pipeline import make_pipeline\n",
    "from sklearn.preprocessing import FunctionTransformer, StandardScaler\n",
    "\n",
    "from sklearn import set_config\n",
    "set_config(transform_output = \"pandas\")"
   ]
  },
  {
   "cell_type": "markdown",
   "id": "bda8f9c1",
   "metadata": {},
   "source": [
    "# Submission Template for Problem spamassasin-1\n",
    "\n"
   ]
  },
  {
   "cell_type": "code",
   "execution_count": null,
   "id": "7b44073e",
   "metadata": {},
   "outputs": [],
   "source": [
    "class SpamDetector:\n",
    "    \"\"\"\n",
    "    This is a template for the SpamDetector class. Please implement the following methods.\n",
    "    Do not change the method signatures or the method names.\n",
    "    \"\"\"\n",
    "    def __init__(self):\n",
    "        pass\n",
    "\n",
    "    \"\"\"\n",
    "    Implement the fit method to train your model.\n",
    "    :param X: a 1D array-like with the email content for the training dataset.\n",
    "    :param y: a 1D array-like with the labels for the training dataset. \n",
    "    Each label is 1 if the email is spam and 0 otherwise.\n",
    "    \"\"\"\n",
    "    def fit(self, X, y):\n",
    "        pass\n",
    "\n",
    "    \"\"\"\n",
    "    Implement the predict method to make predictions for the test dataset.\n",
    "    :param X: a 1D array-like with the test dataset. each element is an email content.\n",
    "    :return: a 1D numpy array with the predictions for the test dataset. \n",
    "    The value of the prediction should be 1 if the email is evaluated as spam and 0 otherwise.\n",
    "    \"\"\"\n",
    "    def predict(self, X):\n",
    "        pass\n"
   ]
  }
 ],
 "metadata": {},
 "nbformat": 4,
 "nbformat_minor": 5
}
