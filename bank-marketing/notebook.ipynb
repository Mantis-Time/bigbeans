{
 "cells": [
  {
   "cell_type": "markdown",
   "id": "40c93cc1",
   "metadata": {},
   "source": [
    "# Bank Marketing\n",
    "\n"
   ]
  },
  {
   "cell_type": "markdown",
   "id": "bfa09138",
   "metadata": {},
   "source": [
    "## Get the training dataset\n",
    "\n"
   ]
  },
  {
   "cell_type": "code",
   "execution_count": null,
   "id": "87965345",
   "metadata": {},
   "outputs": [],
   "source": [
    "!pip install -q -U bigbeans"
   ]
  },
  {
   "cell_type": "code",
   "execution_count": null,
   "id": "e1fc6630",
   "metadata": {},
   "outputs": [],
   "source": [
    "import bigbeans\n",
    "X_train, y_train = bigbeans.fetch(\"bank-marketing\")"
   ]
  },
  {
   "cell_type": "markdown",
   "id": "8e0982db",
   "metadata": {},
   "source": [
    "## Play around with the data\n",
    "\n"
   ]
  },
  {
   "cell_type": "code",
   "execution_count": null,
   "id": "6f53548c",
   "metadata": {},
   "outputs": [],
   "source": [
    "X_train, y_train"
   ]
  },
  {
   "cell_type": "code",
   "execution_count": null,
   "id": "923e7b3e",
   "metadata": {},
   "outputs": [],
   "source": [
    "# Your code here\n"
   ]
  },
  {
   "cell_type": "markdown",
   "id": "938cf688",
   "metadata": {},
   "source": [
    "## Prepare your submission\n",
    "\n"
   ]
  },
  {
   "cell_type": "markdown",
   "id": "86b0c6f4",
   "metadata": {},
   "source": [
    "\n",
    "## Submission Template for Bank Marketing\n",
    "Once you have played around with the data, \n",
    "built a model and are ready to test it, you can prepare your submission by using the following code snippet. \n",
    "Fill in the functions with your solution and copy the cell into the submission for this problem on \n",
    "[BigBeans](http://bigbeans.ai/problems/bank-marketing).\n",
    "\n",
    "**Note**: Do not change the function names or the function signatures. \n",
    " \n",
    "Make sure that the cell is **self-contained** and does not depend on any other cells in the notebook. \n"
   ]
  },
  {
   "cell_type": "code",
   "execution_count": null,
   "id": "3991d4d0",
   "metadata": {},
   "outputs": [],
   "source": [
    "class BankMarketingPredictor:\n",
    "    \"\"\"\n",
    "    This class is the main class that you need to implement.\n",
    "    The constructor should receive the parameters that you need to train your model.\n",
    "    \"\"\"\n",
    "    def __init__(self, **kwargs):\n",
    "        pass\n",
    "\n",
    "    \"\"\"\n",
    "    Implement the fit method to train your model.\n",
    "    :param X: a pandas.DataFrame with the training dataset. each row is a client and each column is a feature\n",
    "    :param y: a pandas.Series with the labels of the training dataset. each label can be 1 or 2\n",
    "    \"\"\"\n",
    "    def fit(self, X, y):\n",
    "        pass\n",
    "\n",
    "    \"\"\"\n",
    "    :param X: a pandas.DataFrame with the test dataset\n",
    "    :return: a 1d array like object with the predictions for each client. Each prediction can be 1 or 2. \n",
    "    \"\"\"\n",
    "    def predict(self, X):\n",
    "        pass\n"
   ]
  }
 ],
 "metadata": {},
 "nbformat": 4,
 "nbformat_minor": 5
}
