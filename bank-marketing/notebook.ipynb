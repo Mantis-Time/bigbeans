{
 "cells": [
  {
   "cell_type": "markdown",
   "id": "8a37ac00",
   "metadata": {},
   "source": [
    "# Bank Marketing\n",
    "\n"
   ]
  },
  {
   "cell_type": "markdown",
   "id": "43c9c3ce",
   "metadata": {},
   "source": [
    "## Get the training dataset\n",
    "\n"
   ]
  },
  {
   "cell_type": "code",
   "execution_count": null,
   "id": "6ce0fc34",
   "metadata": {},
   "outputs": [],
   "source": [
    "!pip install -q -U bigbeans"
   ]
  },
  {
   "cell_type": "code",
   "execution_count": null,
   "id": "3dd92fbe",
   "metadata": {},
   "outputs": [],
   "source": [
    "import bigbeans\n",
    "X_train, y_train = bigbeans.fetch(\"bank-marketing\")\n",
    "X_train.head()"
   ]
  },
  {
   "cell_type": "markdown",
   "id": "2b8def48",
   "metadata": {},
   "source": [
    "## Submission Template for bank-marketing\n",
    "\n"
   ]
  },
  {
   "cell_type": "code",
   "execution_count": null,
   "id": "3e104590",
   "metadata": {},
   "outputs": [],
   "source": [
    "class BankMarketingPredictor:\n",
    "    \"\"\"\n",
    "    This class is the main class that you need to implement.\n",
    "    The constructor should receive the parameters that you need to train your model.\n",
    "    \"\"\"\n",
    "    def __init__(self, **kwargs):\n",
    "        pass\n",
    "\n",
    "    \"\"\"\n",
    "    Implement the fit method to train your model.\n",
    "    :param X: a pandas.DataFrame with the training dataset. each row is a client and each column is a feature\n",
    "    :param y: a pandas.DataFrame with the labels of the training dataset. each label can be 1 or 2\n",
    "    \"\"\"\n",
    "    def fit(self, X, y):\n",
    "        pass\n",
    "\n",
    "    \"\"\"\n",
    "    :param X: a pandas.DataFrame with the test dataset\n",
    "    :return: a numpy array with the predictions where 1 means that the client did not subscribe and 2 means that the client subscribed\n",
    "    \"\"\"\n",
    "    def predict(self, X):\n",
    "        pass\n"
   ]
  }
 ],
 "metadata": {},
 "nbformat": 4,
 "nbformat_minor": 5
}
