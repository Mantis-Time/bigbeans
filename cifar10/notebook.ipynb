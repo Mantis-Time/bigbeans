{
 "cells": [
  {
   "cell_type": "markdown",
   "id": "deb7061d",
   "metadata": {},
   "source": [
    "# CIFAR-10 - Image Classification\n",
    "\n"
   ]
  },
  {
   "cell_type": "markdown",
   "id": "9f4aba15",
   "metadata": {},
   "source": [
    "## Get the training dataset\n",
    "\n"
   ]
  },
  {
   "cell_type": "code",
   "execution_count": null,
   "id": "ad75645e",
   "metadata": {},
   "outputs": [],
   "source": [
    "!pip install -q -U bigbeans"
   ]
  },
  {
   "cell_type": "code",
   "execution_count": null,
   "id": "306e83ca",
   "metadata": {},
   "outputs": [],
   "source": [
    "import bigbeans\n",
    "X_train, y_train = bigbeans.fetch(\"cifar10\")"
   ]
  },
  {
   "cell_type": "markdown",
   "id": "efeb2a38",
   "metadata": {},
   "source": [
    "## Play around with the data\n",
    "\n"
   ]
  },
  {
   "cell_type": "code",
   "execution_count": null,
   "id": "07619973",
   "metadata": {},
   "outputs": [],
   "source": [
    "X_train, y_train"
   ]
  },
  {
   "cell_type": "code",
   "execution_count": null,
   "id": "2982d472",
   "metadata": {},
   "outputs": [],
   "source": [
    "# Your code here\n"
   ]
  },
  {
   "cell_type": "markdown",
   "id": "1a2fc4ac",
   "metadata": {},
   "source": [
    "## Prepare your submission\n",
    "\n"
   ]
  },
  {
   "cell_type": "markdown",
   "id": "890297e2",
   "metadata": {},
   "source": [
    "\n",
    "## Submission Template for CIFAR-10 - Image Classification\n",
    "Once you have played around with the data, \n",
    "built a model and are ready to test it, you can prepare your submission by using the following code snippet. \n",
    "Fill in the functions with your solution and copy the cell into the submission for this problem on \n",
    "[BigBeans](http://bigbeans.ai/problems/cifar10).\n",
    "\n",
    "**Note**: Do not change the function names or the function signatures. \n",
    " \n",
    "Make sure that the cell is **self-contained** and does not depend on any other cells in the notebook. \n"
   ]
  },
  {
   "cell_type": "code",
   "execution_count": null,
   "id": "71732c2d",
   "metadata": {},
   "outputs": [],
   "source": [
    "class CIFAR10Classifier:\n",
    "    \"\"\"\n",
    "    CIFAR10Classifier is a classifier for CIFAR-10 dataset.\n",
    "    \"\"\"\n",
    "    def __init__(self):\n",
    "        pass\n",
    "\n",
    "    \"\"\"\n",
    "    Implement the fit method to train your model.\n",
    "    :param X: a 4D numpy array with the training dataset. \n",
    "    The shape of the array is (50000, 32, 32, 3), where 50,000 is the number of samples in the training dataset.\n",
    "    :param y: a 1D numpy array with the labels for the training dataset.\n",
    "    Each label is an integer from 0 to 9.\n",
    "    \"\"\"\n",
    "    def fit(self, X, y):\n",
    "        pass\n",
    "\n",
    "    \"\"\"\n",
    "    Implement the predict method to make predictions for the test dataset.\n",
    "    :param X: a 4D numpy array with the test dataset.\n",
    "    The shape of the array is (10000, 32, 32, 3), where 10,000 is the number of samples in the test dataset.\n",
    "    :return: a 1D numpy array with the predictions for the test dataset.\n",
    "    Each element in the array is an integer from 0 to 9.\n",
    "    \"\"\"\n",
    "    def predict(self, X):\n",
    "        pass\n"
   ]
  }
 ],
 "metadata": {},
 "nbformat": 4,
 "nbformat_minor": 5
}
