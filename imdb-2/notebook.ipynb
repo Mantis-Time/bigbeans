{
 "cells": [
  {
   "cell_type": "markdown",
   "id": "b0445aa1",
   "metadata": {},
   "source": [
    "# IMDB Movie Review Sentiment Analysis II\n",
    "\n"
   ]
  },
  {
   "cell_type": "markdown",
   "id": "88f630ea",
   "metadata": {},
   "source": [
    "## Get the training dataset\n",
    "\n"
   ]
  },
  {
   "cell_type": "code",
   "execution_count": null,
   "id": "f8015fff",
   "metadata": {},
   "outputs": [],
   "source": [
    "!pip install -q -U bigbeans"
   ]
  },
  {
   "cell_type": "code",
   "execution_count": null,
   "id": "811167b9",
   "metadata": {},
   "outputs": [],
   "source": [
    "import bigbeans\n",
    "X_train, y_train = bigbeans.fetch(\"imdb-2\")\n",
    "X_train.head()"
   ]
  },
  {
   "cell_type": "markdown",
   "id": "4ff3f3e7",
   "metadata": {},
   "source": [
    "## Submission Template for imdb-2\n",
    "\n"
   ]
  },
  {
   "cell_type": "code",
   "execution_count": null,
   "id": "a01c6aa5",
   "metadata": {},
   "outputs": [],
   "source": [
    "class IMDBSentimentClassifier:\n",
    "    \"\"\"\n",
    "    Implement a sentiment classifier for the IMDB dataset.\n",
    "    \"\"\"\n",
    "\n",
    "    def __init__(self):\n",
    "        pass\n",
    "\n",
    "    \"\"\"\n",
    "    Implement the fit method to train your model.\n",
    "    :param X: a 1D array-like with the training dataset. each element is a movie review.\n",
    "    :param y: a 1D numpy array with the labels for the training dataset. each element is a label ('0' or 1). 0 for negative and 1 for positive.\n",
    "    \"\"\"\n",
    "\n",
    "    def fit(self, X, y):\n",
    "        pass\n",
    "\n",
    "    \"\"\"\n",
    "    Implement the predict method to predict the sentiment of the reviews.\n",
    "    :param X: a 1D array-like with the reviews to predict.\n",
    "    :return: a 1D numpy array with the predicted labels. each element is a label ('0' or 1). 0 for negative and 1 for positive.\n",
    "    \"\"\"\n",
    "\n",
    "    def predict(self, X):\n",
    "        pass\n"
   ]
  }
 ],
 "metadata": {},
 "nbformat": 4,
 "nbformat_minor": 5
}
