{
 "cells": [
  {
   "cell_type": "markdown",
   "id": "3ed788e2",
   "metadata": {},
   "source": [
    "# MNIST-1: Image Classification\n",
    "\n"
   ]
  },
  {
   "cell_type": "markdown",
   "id": "13f3f85c",
   "metadata": {},
   "source": [
    "## Get the training dataset\n",
    "\n"
   ]
  },
  {
   "cell_type": "code",
   "execution_count": null,
   "id": "8c809518",
   "metadata": {},
   "outputs": [],
   "source": [
    "!pip install -q -U bigbeans"
   ]
  },
  {
   "cell_type": "code",
   "execution_count": null,
   "id": "218e45d7",
   "metadata": {},
   "outputs": [],
   "source": [
    "import bigbeans\n",
    "X_train, y_train = bigbeans.fetch(\"mnist-1\")\n",
    "X_train.head()"
   ]
  },
  {
   "cell_type": "markdown",
   "id": "8f357a7e",
   "metadata": {},
   "source": [
    "## Submission Template for mnist-1\n",
    "\n"
   ]
  },
  {
   "cell_type": "code",
   "execution_count": null,
   "id": "8dd64ec9",
   "metadata": {},
   "outputs": [],
   "source": [
    "import numpy as np\n",
    "\n",
    "\n",
    "class MNISTClassifier:\n",
    "    def __init__(self):\n",
    "        pass\n",
    "\n",
    "    \"\"\"\n",
    "    Fit the model to the training data.\n",
    "\n",
    "    Parameters\n",
    "    ----------\n",
    "    X : np.ndarray\n",
    "        The training data. The shape of the array is (n, 28, 28), where n is the number of samples in the training dataset.\n",
    "    y : np.ndarray\n",
    "        The labels for the training data.\n",
    "    \"\"\"\n",
    "\n",
    "    def fit(self, X: np.ndarray, y: np.ndarray) -> None:\n",
    "        pass\n",
    "\n",
    "    \"\"\"\n",
    "    Make predictions for the test data.\n",
    "    \n",
    "    Parameters\n",
    "    ----------\n",
    "    X : np.ndarray\n",
    "        The test data. The shape of the array is (n, 28, 28), where n is the number of samples in the test dataset.\n",
    "        \n",
    "    Returns\n",
    "    -------\n",
    "    np.ndarray\n",
    "        The predictions for the test data. Each element in the array is an integer from 0 to 9.\n",
    "    \"\"\"\n",
    "\n",
    "    def predict(self, X: np.ndarray) -> np.ndarray:\n",
    "        pass\n"
   ]
  }
 ],
 "metadata": {},
 "nbformat": 4,
 "nbformat_minor": 5
}
