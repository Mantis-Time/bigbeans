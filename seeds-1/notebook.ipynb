{
 "cells": [
  {
   "cell_type": "markdown",
   "id": "9883dd64",
   "metadata": {},
   "source": [
    "# Seeds: Predicting Seed Types\n",
    "\n"
   ]
  },
  {
   "cell_type": "markdown",
   "id": "8f9d95f1",
   "metadata": {},
   "source": [
    "## Get the training dataset\n",
    "\n"
   ]
  },
  {
   "cell_type": "code",
   "execution_count": null,
   "id": "036a4f08",
   "metadata": {},
   "outputs": [],
   "source": [
    "!pip install -q -U bigbeans"
   ]
  },
  {
   "cell_type": "code",
   "execution_count": null,
   "id": "ab67e4f9",
   "metadata": {},
   "outputs": [],
   "source": [
    "import bigbeans\n",
    "X_train, y_train = bigbeans.fetch(\"seeds-1\")"
   ]
  },
  {
   "cell_type": "markdown",
   "id": "cd57c6ee",
   "metadata": {},
   "source": [
    "## Play around with the data\n",
    "\n"
   ]
  },
  {
   "cell_type": "code",
   "execution_count": null,
   "id": "a11474ae",
   "metadata": {},
   "outputs": [],
   "source": [
    "X_train, y_train"
   ]
  },
  {
   "cell_type": "code",
   "execution_count": null,
   "id": "87e06502",
   "metadata": {},
   "outputs": [],
   "source": [
    "# Your code here\n"
   ]
  },
  {
   "cell_type": "markdown",
   "id": "2243729b",
   "metadata": {},
   "source": [
    "## Prepare your submission\n",
    "\n"
   ]
  },
  {
   "cell_type": "markdown",
   "id": "3ee12039",
   "metadata": {},
   "source": [
    "\n",
    "## Submission Template for Seeds: Predicting Seed Types\n",
    "Once you have played around with the data, \n",
    "built a model and are ready to test it, you can prepare your submission by using the following code snippet. \n",
    "Fill in the functions with your solution and copy the cell into the submission for this problem on \n",
    "[BigBeans](http://bigbeans.ai/problems/seeds-1).\n",
    "\n",
    "**Note**: Do not change the function names or the function signatures. \n",
    " \n",
    "Make sure that the cell is **self-contained** and does not depend on any other cells in the notebook. \n"
   ]
  },
  {
   "cell_type": "code",
   "execution_count": null,
   "id": "7a97a038",
   "metadata": {},
   "outputs": [],
   "source": [
    "import pandas as pd\n",
    "\n",
    "\n",
    "class SeedClassifier:\n",
    "    \"\"\"\n",
    "    This class is the main class that you need to implement.\n",
    "    \"\"\"\n",
    "\n",
    "    def __init__(self):\n",
    "        pass\n",
    "\n",
    "    \"\"\"\n",
    "    Implement the fit method to train the model.\n",
    "    :param X: a pandas.DataFrame with the training dataset. each row is a seed and each column is a feature\n",
    "    :param y: a pandas.Series with the labels of the training dataset. each label can be 1, 2, or 3\n",
    "    \"\"\"\n",
    "\n",
    "    def fit(self, X: pd.DataFrame, y: pd.Series):\n",
    "        pass\n",
    "\n",
    "    \"\"\"\n",
    "    :param X: a pandas.DataFrame with the test dataset\n",
    "    :return: a 1d numpy array with the predictions for the test dataset. each prediction can be 1, 2, or 3\n",
    "    \"\"\"\n",
    "\n",
    "    def predict(self, X: pd.DataFrame):\n",
    "        pass\n"
   ]
  }
 ],
 "metadata": {},
 "nbformat": 4,
 "nbformat_minor": 5
}
