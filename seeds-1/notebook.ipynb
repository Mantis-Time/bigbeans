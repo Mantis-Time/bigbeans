{
 "cells": [
  {
   "cell_type": "markdown",
   "id": "57f92162",
   "metadata": {},
   "source": [
    "# Seeds: Predicting Seed Types\n",
    "\n"
   ]
  },
  {
   "cell_type": "markdown",
   "id": "7ac32e5a",
   "metadata": {},
   "source": [
    "## Get the training dataset\n",
    "\n"
   ]
  },
  {
   "cell_type": "code",
   "execution_count": null,
   "id": "b3062aeb",
   "metadata": {},
   "outputs": [],
   "source": [
    "!pip install -q -U bigbeans"
   ]
  },
  {
   "cell_type": "code",
   "execution_count": null,
   "id": "5d067f8c",
   "metadata": {},
   "outputs": [],
   "source": [
    "import bigbeans\n",
    "X_train, y_train = bigbeans.fetch(\"seeds-1\")\n",
    "X_train.head()"
   ]
  },
  {
   "cell_type": "markdown",
   "id": "a06d497d",
   "metadata": {},
   "source": [
    "## Submission Template for seeds-1\n",
    "\n"
   ]
  },
  {
   "cell_type": "code",
   "execution_count": null,
   "id": "5e5569fc",
   "metadata": {},
   "outputs": [],
   "source": [
    "import pandas as pd\n",
    "\n",
    "\n",
    "class SeedClassifier:\n",
    "    \"\"\"\n",
    "    This class is the main class that you need to implement.\n",
    "    \"\"\"\n",
    "\n",
    "    def __init__(self):\n",
    "        pass\n",
    "\n",
    "    \"\"\"\n",
    "    Implement the fit method to train the model.\n",
    "    :param X: a pandas.DataFrame with the training dataset. each row is a seed and each column is a feature\n",
    "    :param y: a pandas.Series with the labels of the training dataset. each label can be 1, 2, or 3\n",
    "    \"\"\"\n",
    "\n",
    "    def fit(self, X: pd.DataFrame, y: pd.Series):\n",
    "        pass\n",
    "\n",
    "    \"\"\"\n",
    "    :param X: a pandas.DataFrame with the test dataset\n",
    "    :return: a 1d numpy array with the predictions for the test dataset. each prediction can be 1, 2, or 3\n",
    "    \"\"\"\n",
    "\n",
    "    def predict(self, X: pd.DataFrame):\n",
    "        pass\n"
   ]
  }
 ],
 "metadata": {},
 "nbformat": 4,
 "nbformat_minor": 5
}
