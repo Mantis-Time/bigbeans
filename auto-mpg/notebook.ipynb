{
 "cells": [
  {
   "cell_type": "markdown",
   "id": "170ec356",
   "metadata": {},
   "source": [
    "# Auto MPG: Predicting Fuel Efficiency\n",
    "\n"
   ]
  },
  {
   "cell_type": "markdown",
   "id": "82d3b5f2",
   "metadata": {},
   "source": [
    "## Get the training dataset\n",
    "\n"
   ]
  },
  {
   "cell_type": "code",
   "execution_count": null,
   "id": "5892f720",
   "metadata": {},
   "outputs": [],
   "source": [
    "!pip install -q -U bigbeans"
   ]
  },
  {
   "cell_type": "code",
   "execution_count": null,
   "id": "dd960474",
   "metadata": {},
   "outputs": [],
   "source": [
    "import bigbeans\n",
    "X_train, y_train = bigbeans.fetch(\"auto-mpg\")\n",
    "X_train.head()"
   ]
  },
  {
   "cell_type": "markdown",
   "id": "26d33e81",
   "metadata": {},
   "source": [
    "## Submission Template for auto-mpg\n",
    "\n"
   ]
  },
  {
   "cell_type": "code",
   "execution_count": null,
   "id": "780efc51",
   "metadata": {},
   "outputs": [],
   "source": [
    "class FuelEfficiencyPredictor:\n",
    "    \"\"\"\n",
    "    A class that predicts the fuel efficiency of a vehicle.\n",
    "    Initialize any parameters that you need in the constructor.\n",
    "    \"\"\"\n",
    "\n",
    "    def __init__(self):\n",
    "        self.model = None\n",
    "\n",
    "    \"\"\"\n",
    "    Implement the fit method to train your model.\n",
    "    :param X: a pandas.DataFrame with the training dataset. each row is a vehicle and each column is a feature\n",
    "    :param y: a pandas.Series with the labels of the training dataset. each label is the fuel efficiency in the corresponding row\n",
    "    \"\"\"\n",
    "\n",
    "    def fit(self, X_train, y_train):\n",
    "        pass\n",
    "\n",
    "    \"\"\"\n",
    "    Predict the fuel efficiency for each vehicle in the test dataset.\n",
    "    :param X: a pandas.DataFrame with the test dataset\n",
    "    :return: a 1D array-like object with the predicted fuel efficiencies\n",
    "    \"\"\"\n",
    "\n",
    "    def predict(self, X_test):\n",
    "        pass\n"
   ]
  }
 ],
 "metadata": {},
 "nbformat": 4,
 "nbformat_minor": 5
}
