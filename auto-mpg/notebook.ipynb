{
 "cells": [
  {
   "cell_type": "markdown",
   "id": "9960f9b8",
   "metadata": {},
   "source": [
    "# Auto MPG: Predicting Fuel Efficiency\n",
    "\n"
   ]
  },
  {
   "cell_type": "markdown",
   "id": "e70265a1",
   "metadata": {},
   "source": [
    "## Get the training dataset\n",
    "\n"
   ]
  },
  {
   "cell_type": "code",
   "execution_count": null,
   "id": "2a868448",
   "metadata": {},
   "outputs": [],
   "source": [
    "!pip install -q -U bigbeans"
   ]
  },
  {
   "cell_type": "code",
   "execution_count": null,
   "id": "a27e0f6f",
   "metadata": {},
   "outputs": [],
   "source": [
    "import bigbeans\n",
    "X_train, y_train = bigbeans.fetch(\"auto-mpg\")"
   ]
  },
  {
   "cell_type": "markdown",
   "id": "c7dbd854",
   "metadata": {},
   "source": [
    "## Play around with the data\n",
    "\n"
   ]
  },
  {
   "cell_type": "code",
   "execution_count": null,
   "id": "4135d209",
   "metadata": {},
   "outputs": [],
   "source": [
    "X_train, y_train"
   ]
  },
  {
   "cell_type": "code",
   "execution_count": null,
   "id": "af604104",
   "metadata": {},
   "outputs": [],
   "source": [
    "# Your code here\n"
   ]
  },
  {
   "cell_type": "markdown",
   "id": "1305b420",
   "metadata": {},
   "source": [
    "## Prepare your submission\n",
    "\n"
   ]
  },
  {
   "cell_type": "markdown",
   "id": "01a389bf",
   "metadata": {},
   "source": [
    "\n",
    "## Submission Template for Auto MPG: Predicting Fuel Efficiency\n",
    "Once you have played around with the data, \n",
    "built a model and are ready to test it, you can prepare your submission by using the following code snippet. \n",
    "Fill in the functions with your solution and copy the cell into the submission for this problem on \n",
    "[BigBeans](http://bigbeans.ai/problems/auto-mpg).\n",
    "\n",
    "**Note**: Do not change the function names or the function signatures. \n",
    " \n",
    "Make sure that the cell is **self-contained** and does not depend on any other cells in the notebook. \n"
   ]
  },
  {
   "cell_type": "code",
   "execution_count": null,
   "id": "b6ae501b",
   "metadata": {},
   "outputs": [],
   "source": [
    "class FuelEfficiencyPredictor:\n",
    "    \"\"\"\n",
    "    A class that predicts the fuel efficiency of a vehicle.\n",
    "    Initialize any parameters that you need in the constructor.\n",
    "    \"\"\"\n",
    "\n",
    "    def __init__(self):\n",
    "        self.model = None\n",
    "\n",
    "    \"\"\"\n",
    "    Implement the fit method to train your model.\n",
    "    :param X: a pandas.DataFrame with the training dataset. each row is a vehicle and each column is a feature\n",
    "    :param y: a pandas.Series with the labels of the training dataset. each label is the fuel efficiency in the corresponding row\n",
    "    \"\"\"\n",
    "\n",
    "    def fit(self, X_train, y_train):\n",
    "        pass\n",
    "\n",
    "    \"\"\"\n",
    "    Predict the fuel efficiency for each vehicle in the test dataset.\n",
    "    :param X: a pandas.DataFrame with the test dataset\n",
    "    :return: a 1D array-like object with the predicted fuel efficiencies\n",
    "    \"\"\"\n",
    "\n",
    "    def predict(self, X_test):\n",
    "        pass\n"
   ]
  }
 ],
 "metadata": {},
 "nbformat": 4,
 "nbformat_minor": 5
}
