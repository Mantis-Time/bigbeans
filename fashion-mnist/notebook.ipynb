{
 "cells": [
  {
   "cell_type": "markdown",
   "id": "ea2d0054",
   "metadata": {},
   "source": [
    "# Fashion MNIST\n",
    "\n"
   ]
  },
  {
   "cell_type": "markdown",
   "id": "728adbea",
   "metadata": {},
   "source": [
    "## Get the training dataset\n",
    "\n"
   ]
  },
  {
   "cell_type": "code",
   "execution_count": null,
   "id": "8eb55f31",
   "metadata": {},
   "outputs": [],
   "source": [
    "!pip install -q -U bigbeans"
   ]
  },
  {
   "cell_type": "code",
   "execution_count": null,
   "id": "089d64f8",
   "metadata": {},
   "outputs": [],
   "source": [
    "import bigbeans\n",
    "X_train, y_train = bigbeans.fetch(\"fashion-mnist\")\n",
    "X_train.head()"
   ]
  },
  {
   "cell_type": "markdown",
   "id": "a9f4c175",
   "metadata": {},
   "source": [
    "## Submission Template for fashion-mnist\n",
    "\n"
   ]
  },
  {
   "cell_type": "code",
   "execution_count": null,
   "id": "402a6d9e",
   "metadata": {},
   "outputs": [],
   "source": [
    "\"\"\"\n",
    "This is a template for the FashionMNISTClassifier class.\n",
    "You can also use this class to train your model on the Fashion MNIST dataset.\n",
    "You can use any machine learning library to train your model.\n",
    "\n",
    "Do not change the method signatures or the method names.\n",
    "\"\"\"\n",
    "\n",
    "\n",
    "class FashionMNISTClassifier:\n",
    "    def __init__(self):\n",
    "        pass\n",
    "\n",
    "    \"\"\"\n",
    "    Implement the fit method to train your model.\n",
    "    :param X: a 3D numpy array with the training dataset. \n",
    "    The shape of the array is (n, 28, 28), where n is the number of samples in the training dataset.\n",
    "    :param y: a 1D numpy array with the labels for the training dataset.\n",
    "    Each label is an integer from 0 to 9.\n",
    "    \"\"\"\n",
    "\n",
    "    def fit(self, X, y):\n",
    "        pass\n",
    "\n",
    "    \"\"\"\n",
    "    Implement the predict method to make predictions for the test dataset.\n",
    "    :param X: a 3D numpy array with the test dataset.\n",
    "    The shape of the array is (n, 28, 28), where n is the number of samples in the test dataset.\n",
    "    :return: a 1D numpy array with the predictions for the test dataset.\n",
    "    Each element in the array is an integer from 0 to 9.\n",
    "    \"\"\"\n",
    "\n",
    "    def predict(self, X):\n",
    "        pass\n"
   ]
  }
 ],
 "metadata": {},
 "nbformat": 4,
 "nbformat_minor": 5
}
