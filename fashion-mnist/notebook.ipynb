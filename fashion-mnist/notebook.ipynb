{
 "cells": [
  {
   "cell_type": "markdown",
   "id": "7fc3757c",
   "metadata": {},
   "source": [
    "# Fashion MNIST\n",
    "\n"
   ]
  },
  {
   "cell_type": "markdown",
   "id": "f3322263",
   "metadata": {},
   "source": [
    "## Get the training dataset\n",
    "\n"
   ]
  },
  {
   "cell_type": "code",
   "execution_count": null,
   "id": "565f9a2d",
   "metadata": {},
   "outputs": [],
   "source": [
    "!pip install -q -U bigbeans"
   ]
  },
  {
   "cell_type": "code",
   "execution_count": null,
   "id": "408ee762",
   "metadata": {},
   "outputs": [],
   "source": [
    "import bigbeans\n",
    "X_train, y_train = bigbeans.fetch(\"fashion-mnist\")"
   ]
  },
  {
   "cell_type": "markdown",
   "id": "d9560553",
   "metadata": {},
   "source": [
    "## Play around with the data\n",
    "\n"
   ]
  },
  {
   "cell_type": "code",
   "execution_count": null,
   "id": "d7651252",
   "metadata": {},
   "outputs": [],
   "source": [
    "X_train, y_train"
   ]
  },
  {
   "cell_type": "code",
   "execution_count": null,
   "id": "d19975bb",
   "metadata": {},
   "outputs": [],
   "source": [
    "# Your code here\n"
   ]
  },
  {
   "cell_type": "markdown",
   "id": "c33a8a56",
   "metadata": {},
   "source": [
    "## Prepare your submission\n",
    "\n"
   ]
  },
  {
   "cell_type": "markdown",
   "id": "5a969734",
   "metadata": {},
   "source": [
    "\n",
    "## Submission Template for Fashion MNIST\n",
    "Once you have played around with the data, \n",
    "built a model and are ready to test it, you can prepare your submission by using the following code snippet. \n",
    "Fill in the functions with your solution and copy the cell into the submission for this problem on \n",
    "[BigBeans](http://bigbeans.ai/problems/fashion-mnist).\n",
    "\n",
    "**Note**: Do not change the function names or the function signatures. \n",
    " \n",
    "Make sure that the cell is **self-contained** and does not depend on any other cells in the notebook. \n"
   ]
  },
  {
   "cell_type": "code",
   "execution_count": null,
   "id": "309b05a5",
   "metadata": {},
   "outputs": [],
   "source": [
    "\"\"\"\n",
    "This is a template for the FashionMNISTClassifier class.\n",
    "You can also use this class to train your model on the Fashion MNIST dataset.\n",
    "You can use any machine learning library to train your model.\n",
    "\n",
    "Do not change the method signatures or the method names.\n",
    "\"\"\"\n",
    "\n",
    "\n",
    "class FashionMNISTClassifier:\n",
    "    def __init__(self):\n",
    "        pass\n",
    "\n",
    "    \"\"\"\n",
    "    Implement the fit method to train your model.\n",
    "    :param X: a 3D numpy array with the training dataset. \n",
    "    The shape of the array is (n, 28, 28), where n is the number of samples in the training dataset.\n",
    "    :param y: a 1D numpy array with the labels for the training dataset.\n",
    "    Each label is an integer from 0 to 9.\n",
    "    \"\"\"\n",
    "\n",
    "    def fit(self, X, y):\n",
    "        pass\n",
    "\n",
    "    \"\"\"\n",
    "    Implement the predict method to make predictions for the test dataset.\n",
    "    :param X: a 3D numpy array with the test dataset.\n",
    "    The shape of the array is (n, 28, 28), where n is the number of samples in the test dataset.\n",
    "    :return: a 1D numpy array with the predictions for the test dataset.\n",
    "    Each element in the array is an integer from 0 to 9.\n",
    "    \"\"\"\n",
    "\n",
    "    def predict(self, X):\n",
    "        pass\n"
   ]
  }
 ],
 "metadata": {},
 "nbformat": 4,
 "nbformat_minor": 5
}
