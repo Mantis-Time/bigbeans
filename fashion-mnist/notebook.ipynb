{
 "cells": [
  {
   "cell_type": "markdown",
   "id": "ed615244",
   "metadata": {},
   "source": [
    "# Fashion MNIST\n",
    "\n"
   ]
  },
  {
   "cell_type": "markdown",
   "id": "3286f724",
   "metadata": {},
   "source": [
    "## Get the dataset\n",
    "\n"
   ]
  },
  {
   "cell_type": "code",
   "execution_count": null,
   "id": "b4bff0ba",
   "metadata": {},
   "outputs": [],
   "source": [
    "!pip install -q -U bigbeans"
   ]
  },
  {
   "cell_type": "code",
   "execution_count": null,
   "id": "fc300fca",
   "metadata": {},
   "outputs": [],
   "source": [
    "X_train, y_train = bigbeans.fetch(fashion-mnist)"
   ]
  },
  {
   "cell_type": "markdown",
   "id": "23c9f29b",
   "metadata": {},
   "source": [
    "## Submission Template for Problem fashion-mnist\n",
    "\n"
   ]
  },
  {
   "cell_type": "code",
   "execution_count": null,
   "id": "010034a7",
   "metadata": {},
   "outputs": [],
   "source": [
    "\"\"\"\n",
    "This is a template for the FashionMNISTClassifier class.\n",
    "You can also use this class to train your model on the Fashion MNIST dataset.\n",
    "You can use any machine learning library to train your model.\n",
    "\n",
    "Do not change the method signatures or the method names.\n",
    "\"\"\"\n",
    "\n",
    "\n",
    "class FashionMNISTClassifier:\n",
    "    def __init__(self):\n",
    "        pass\n",
    "\n",
    "    \"\"\"\n",
    "    Implement the fit method to train your model.\n",
    "    :param X: a 3D numpy array with the training dataset. \n",
    "    The shape of the array is (n, 28, 28), where n is the number of samples in the training dataset.\n",
    "    :param y: a 1D numpy array with the labels for the training dataset.\n",
    "    Each label is an integer from 0 to 9.\n",
    "    \"\"\"\n",
    "\n",
    "    def fit(self, X, y):\n",
    "        pass\n",
    "\n",
    "    \"\"\"\n",
    "    Implement the predict method to make predictions for the test dataset.\n",
    "    :param X: a 3D numpy array with the test dataset.\n",
    "    The shape of the array is (n, 28, 28), where n is the number of samples in the test dataset.\n",
    "    :return: a 1D numpy array with the predictions for the test dataset.\n",
    "    Each element in the array is an integer from 0 to 9.\n",
    "    \"\"\"\n",
    "\n",
    "    def predict(self, X):\n",
    "        pass\n"
   ]
  }
 ],
 "metadata": {},
 "nbformat": 4,
 "nbformat_minor": 5
}
