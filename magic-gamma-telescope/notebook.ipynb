{
 "cells": [
  {
   "cell_type": "markdown",
   "id": "d00537f8",
   "metadata": {},
   "source": [
    "# Magic Gamma Telescope\n",
    "\n"
   ]
  },
  {
   "cell_type": "markdown",
   "id": "f09fadbf",
   "metadata": {},
   "source": [
    "## Get the training dataset\n",
    "\n"
   ]
  },
  {
   "cell_type": "code",
   "execution_count": null,
   "id": "88fa8833",
   "metadata": {},
   "outputs": [],
   "source": [
    "!pip install -q -U bigbeans"
   ]
  },
  {
   "cell_type": "code",
   "execution_count": null,
   "id": "e286c575",
   "metadata": {},
   "outputs": [],
   "source": [
    "import bigbeans\n",
    "X_train, y_train = bigbeans.fetch(\"magic-gamma-telescope\")\n",
    "X_train.head()"
   ]
  },
  {
   "cell_type": "markdown",
   "id": "7f147bc4",
   "metadata": {},
   "source": [
    "## Submission Template for magic-gamma-telescope\n",
    "\n"
   ]
  },
  {
   "cell_type": "code",
   "execution_count": null,
   "id": "06826d70",
   "metadata": {},
   "outputs": [],
   "source": [
    "class MagicGammaTelescopeClassifier:\n",
    "    \"\"\"\n",
    "    MagicGammaTelescopeClassifier is a class that predicts whether a given particle is a gamma signal or hadron.\n",
    "    \"\"\"\n",
    "    def __init__(self):\n",
    "        pass\n",
    "\n",
    "    \"\"\"\n",
    "    Implement the fit method to train your model.\n",
    "    :param X: a pandas DataFrame with the training dataset.\n",
    "    The DataFrame has 10 columns and 15216 rows.\n",
    "    :param y: a pandas Series with the labels for the training dataset.\n",
    "    Each label is a string, either 'g' or 'h'.\n",
    "    \"\"\"\n",
    "    def fit(self, X, y):\n",
    "        pass\n",
    "\n",
    "    \"\"\"\n",
    "    Implement the predict method to make predictions for the test dataset.\n",
    "    :param X: a pandas DataFrame with the test dataset.\n",
    "    The DataFrame has 10 columns and 3804 rows.\n",
    "    :return: a pandas Series with the predictions for the test dataset.\n",
    "    Each element in the Series is a string, either 'g' or 'h'.\n",
    "    \"\"\"\n",
    "    def predict(self, X):\n",
    "        pass\n"
   ]
  }
 ],
 "metadata": {},
 "nbformat": 4,
 "nbformat_minor": 5
}
