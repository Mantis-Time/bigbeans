{
 "cells": [
  {
   "cell_type": "code",
   "execution_count": null,
   "id": "7c029b95",
   "metadata": {},
   "outputs": [],
   "source": [
    "import numpy as np\n",
    "import pandas as pd\n",
    "from sklearn.compose import ColumnTransformer\n",
    "from sklearn.pipeline import make_pipeline\n",
    "from sklearn.preprocessing import FunctionTransformer, StandardScaler\n",
    "\n",
    "from sklearn import set_config\n",
    "set_config(transform_output = \"pandas\")"
   ]
  },
  {
   "cell_type": "markdown",
   "id": "3f5779b2",
   "metadata": {},
   "source": [
    "# Submission Template for Problem magic-gamma-telescope\n",
    "\n"
   ]
  },
  {
   "cell_type": "code",
   "execution_count": null,
   "id": "93f4e7fe",
   "metadata": {},
   "outputs": [],
   "source": [
    "class MagicGammaTelescopeClassifier:\n",
    "    \"\"\"\n",
    "    MagicGammaTelescopeClassifier is a class that predicts whether a given particle is a gamma signal or hadron.\n",
    "    \"\"\"\n",
    "    def __init__(self):\n",
    "        pass\n",
    "\n",
    "    \"\"\"\n",
    "    Implement the fit method to train your model.\n",
    "    :param X: a pandas DataFrame with the training dataset.\n",
    "    The DataFrame has 10 columns and 15216 rows.\n",
    "    :param y: a pandas Series with the labels for the training dataset.\n",
    "    Each label is a string, either 'g' or 'h'.\n",
    "    \"\"\"\n",
    "    def fit(self, X, y):\n",
    "        pass\n",
    "\n",
    "    \"\"\"\n",
    "    Implement the predict method to make predictions for the test dataset.\n",
    "    :param X: a pandas DataFrame with the test dataset.\n",
    "    The DataFrame has 10 columns and 3804 rows.\n",
    "    :return: a pandas Series with the predictions for the test dataset.\n",
    "    Each element in the Series is a string, either 'g' or 'h'.\n",
    "    \"\"\"\n",
    "    def predict(self, X):\n",
    "        pass\n"
   ]
  }
 ],
 "metadata": {},
 "nbformat": 4,
 "nbformat_minor": 5
}
