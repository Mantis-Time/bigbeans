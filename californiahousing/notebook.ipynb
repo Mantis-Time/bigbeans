{
 "cells": [
  {
   "cell_type": "markdown",
   "id": "a5fa26df",
   "metadata": {},
   "source": [
    "# California Housing\n",
    "\n"
   ]
  },
  {
   "cell_type": "markdown",
   "id": "89cd0dea",
   "metadata": {},
   "source": [
    "## Get the training dataset\n",
    "\n"
   ]
  },
  {
   "cell_type": "code",
   "execution_count": null,
   "id": "8856647d",
   "metadata": {},
   "outputs": [],
   "source": [
    "!pip install -q -U bigbeans"
   ]
  },
  {
   "cell_type": "code",
   "execution_count": null,
   "id": "9c9d9f33",
   "metadata": {},
   "outputs": [],
   "source": [
    "import bigbeans\n",
    "X_train, y_train = bigbeans.fetch(\"californiahousing\")"
   ]
  },
  {
   "cell_type": "markdown",
   "id": "b3e6d8cf",
   "metadata": {},
   "source": [
    "## Play around with the data\n",
    "\n"
   ]
  },
  {
   "cell_type": "code",
   "execution_count": null,
   "id": "0f08b3ce",
   "metadata": {},
   "outputs": [],
   "source": [
    "X_train, y_train"
   ]
  },
  {
   "cell_type": "code",
   "execution_count": null,
   "id": "05ff4dd8",
   "metadata": {},
   "outputs": [],
   "source": [
    "# Your code here\n"
   ]
  },
  {
   "cell_type": "markdown",
   "id": "801024e5",
   "metadata": {},
   "source": [
    "## Prepare your submission\n",
    "\n"
   ]
  },
  {
   "cell_type": "markdown",
   "id": "2198e452",
   "metadata": {},
   "source": [
    "\n",
    "## Submission Template for California Housing\n",
    "Once you have played around with the data, \n",
    "built a model and are ready to test it, you can prepare your submission by using the following code snippet. \n",
    "Fill in the functions with your solution and copy the cell into the submission for this problem on \n",
    "[BigBeans](http://bigbeans.ai/problems/californiahousing).\n",
    "\n",
    "**Note**: Do not change the function names or the function signatures. \n",
    " \n",
    "Make sure that the cell is **self-contained** and does not depend on any other cells in the notebook. \n"
   ]
  },
  {
   "cell_type": "code",
   "execution_count": null,
   "id": "d9fc1564",
   "metadata": {},
   "outputs": [],
   "source": [
    "import pandas as pd\n",
    "\n",
    "\n",
    "class CaliforniaHousingValuePredictor:\n",
    "    \"\"\"\n",
    "    This class is the main class that you need to implement.\n",
    "    Initialize any parameters that you need in the constructor.\n",
    "    \"\"\"\n",
    "    def __init__(self) -> None:\n",
    "        pass\n",
    "\n",
    "    \"\"\"\n",
    "    Implement the fit method to train your model.\n",
    "    :param training_dataset: a pandas.DataFrame with the training dataset. each row is a house and each column is a feature\n",
    "    :param median_housing_prices: a pandas.Series with the labels of the training dataset. each label is the median house price in the corresponding row\n",
    "    \"\"\"\n",
    "    def fit(self, training_dataset: pd.DataFrame, median_housing_prices: pd.Series) -> None:\n",
    "        pass\n",
    "\n",
    "    \"\"\"\n",
    "    Predict the median house price for each house in the test dataset.\n",
    "    :param test_dataset: a pandas.DataFrame with the test dataset\n",
    "    :return: a pandas.Series with the predictions where each value is the median house price for the corresponding row in the test dataset\n",
    "    \"\"\"\n",
    "    def predict(self, test_dataset: pd.DataFrame) -> pd.Series:\n",
    "        pass\n"
   ]
  }
 ],
 "metadata": {},
 "nbformat": 4,
 "nbformat_minor": 5
}
