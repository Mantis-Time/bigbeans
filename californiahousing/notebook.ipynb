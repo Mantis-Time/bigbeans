{
 "cells": [
  {
   "cell_type": "code",
   "execution_count": null,
   "id": "fea33a52",
   "metadata": {},
   "outputs": [],
   "source": [
    "import numpy as np\n",
    "import pandas as pd\n",
    "from sklearn.compose import ColumnTransformer\n",
    "from sklearn.pipeline import make_pipeline\n",
    "from sklearn.preprocessing import FunctionTransformer, StandardScaler\n",
    "\n",
    "from sklearn import set_config\n",
    "set_config(transform_output = \"pandas\")"
   ]
  },
  {
   "cell_type": "markdown",
   "id": "bc96e329",
   "metadata": {},
   "source": [
    "# Submission Template for Problem californiahousing\n",
    "\n"
   ]
  },
  {
   "cell_type": "code",
   "execution_count": null,
   "id": "0fd4587d",
   "metadata": {},
   "outputs": [],
   "source": [
    "import pandas as pd\n",
    "\n",
    "\n",
    "class CaliforniaHousingValuePredictor:\n",
    "    \"\"\"\n",
    "    This class is the main class that you need to implement.\n",
    "    Initialize any parameters that you need in the constructor.\n",
    "    \"\"\"\n",
    "    def __init__(self) -> None:\n",
    "        pass\n",
    "\n",
    "    \"\"\"\n",
    "    Implement the fit method to train your model.\n",
    "    :param training_dataset: a pandas.DataFrame with the training dataset. each row is a house and each column is a feature\n",
    "    :param median_housing_prices: a pandas.Series with the labels of the training dataset. each label is the median house price in the corresponding row\n",
    "    \"\"\"\n",
    "    def fit(self, training_dataset: pd.DataFrame, median_housing_prices: pd.Series) -> None:\n",
    "        pass\n",
    "\n",
    "    \"\"\"\n",
    "    Predict the median house price for each house in the test dataset.\n",
    "    :param test_dataset: a pandas.DataFrame with the test dataset\n",
    "    :return: a pandas.Series with the predictions where each value is the median house price for the corresponding row in the test dataset\n",
    "    \"\"\"\n",
    "    def predict(self, test_dataset: pd.DataFrame) -> pd.Series:\n",
    "        pass\n"
   ]
  }
 ],
 "metadata": {},
 "nbformat": 4,
 "nbformat_minor": 5
}
