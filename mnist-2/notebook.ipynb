{
 "cells": [
  {
   "cell_type": "markdown",
   "id": "667c6c05",
   "metadata": {},
   "source": [
    "# MNIST-2: Image Classification\n",
    "\n"
   ]
  },
  {
   "cell_type": "markdown",
   "id": "a7319151",
   "metadata": {},
   "source": [
    "## Get the training dataset\n",
    "\n"
   ]
  },
  {
   "cell_type": "code",
   "execution_count": null,
   "id": "cfbf9e7b",
   "metadata": {},
   "outputs": [],
   "source": [
    "!pip install -q -U bigbeans"
   ]
  },
  {
   "cell_type": "code",
   "execution_count": null,
   "id": "38f7d516",
   "metadata": {},
   "outputs": [],
   "source": [
    "import bigbeans\n",
    "X_train, y_train = bigbeans.fetch(\"mnist-2\")\n",
    "X_train.head()"
   ]
  },
  {
   "cell_type": "markdown",
   "id": "974c4828",
   "metadata": {},
   "source": [
    "## Submission Template for mnist-2\n",
    "\n"
   ]
  },
  {
   "cell_type": "code",
   "execution_count": null,
   "id": "deef1104",
   "metadata": {},
   "outputs": [],
   "source": [
    "import numpy as np\n",
    "\n",
    "\n",
    "class MNISTClassifier2:\n",
    "    def __init__(self):\n",
    "        pass\n",
    "\n",
    "    \"\"\"\n",
    "    Fit the model to the training data.\n",
    "\n",
    "    Parameters\n",
    "    ----------\n",
    "    X : np.ndarray\n",
    "        The training data. The shape of the array is (n, 28, 28), where n is the number of samples in the training dataset.\n",
    "    y : np.ndarray\n",
    "        The labels for the training data.\n",
    "    \"\"\"\n",
    "\n",
    "    def fit(self, X: np.ndarray, y: np.ndarray) -> None:\n",
    "        pass\n",
    "\n",
    "    \"\"\"\n",
    "    Make predictions for the test data.\n",
    "    \n",
    "    Parameters\n",
    "    ----------\n",
    "    X : np.ndarray\n",
    "        The test data. The shape of the array is (n, 28, 28), where n is the number of samples in the test dataset.\n",
    "        \n",
    "    Returns\n",
    "    -------\n",
    "    np.ndarray\n",
    "        The predictions for the test data. Each element in the array is an integer from 0 to 9.\n",
    "    \"\"\"\n",
    "\n",
    "    def predict(self, X: np.ndarray) -> np.ndarray:\n",
    "        pass\n"
   ]
  }
 ],
 "metadata": {},
 "nbformat": 4,
 "nbformat_minor": 5
}
