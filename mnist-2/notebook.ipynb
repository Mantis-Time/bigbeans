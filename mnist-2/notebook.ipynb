{
 "cells": [
  {
   "cell_type": "markdown",
   "id": "b8a93896",
   "metadata": {},
   "source": [
    "# MNIST-2: Image Classification\n",
    "\n"
   ]
  },
  {
   "cell_type": "markdown",
   "id": "da364486",
   "metadata": {},
   "source": [
    "## Get the dataset\n",
    "\n"
   ]
  },
  {
   "cell_type": "code",
   "execution_count": null,
   "id": "6882b406",
   "metadata": {},
   "outputs": [],
   "source": [
    "!pip install -q -U bigbeans"
   ]
  },
  {
   "cell_type": "code",
   "execution_count": null,
   "id": "d842f6b7",
   "metadata": {},
   "outputs": [],
   "source": [
    "X_train, y_train = bigbeans.fetch(mnist-2)"
   ]
  },
  {
   "cell_type": "markdown",
   "id": "42e4dba6",
   "metadata": {},
   "source": [
    "## Submission Template for Problem mnist-2\n",
    "\n"
   ]
  },
  {
   "cell_type": "code",
   "execution_count": null,
   "id": "5994581c",
   "metadata": {},
   "outputs": [],
   "source": [
    "import numpy as np\n",
    "\n",
    "\n",
    "class MNISTClassifier2:\n",
    "    def __init__(self):\n",
    "        pass\n",
    "\n",
    "    \"\"\"\n",
    "    Fit the model to the training data.\n",
    "\n",
    "    Parameters\n",
    "    ----------\n",
    "    X : np.ndarray\n",
    "        The training data. The shape of the array is (n, 28, 28), where n is the number of samples in the training dataset.\n",
    "    y : np.ndarray\n",
    "        The labels for the training data.\n",
    "    \"\"\"\n",
    "\n",
    "    def fit(self, X: np.ndarray, y: np.ndarray) -> None:\n",
    "        pass\n",
    "\n",
    "    \"\"\"\n",
    "    Make predictions for the test data.\n",
    "    \n",
    "    Parameters\n",
    "    ----------\n",
    "    X : np.ndarray\n",
    "        The test data. The shape of the array is (n, 28, 28), where n is the number of samples in the test dataset.\n",
    "        \n",
    "    Returns\n",
    "    -------\n",
    "    np.ndarray\n",
    "        The predictions for the test data. Each element in the array is an integer from 0 to 9.\n",
    "    \"\"\"\n",
    "\n",
    "    def predict(self, X: np.ndarray) -> np.ndarray:\n",
    "        pass\n"
   ]
  }
 ],
 "metadata": {},
 "nbformat": 4,
 "nbformat_minor": 5
}
