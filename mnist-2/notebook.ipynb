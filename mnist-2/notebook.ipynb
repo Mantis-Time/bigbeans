{
 "cells": [
  {
   "cell_type": "markdown",
   "id": "611d38ee",
   "metadata": {},
   "source": [
    "# MNIST: Image Classification II\n",
    "\n"
   ]
  },
  {
   "cell_type": "markdown",
   "id": "3d37c625",
   "metadata": {},
   "source": [
    "## Get the training dataset\n",
    "\n"
   ]
  },
  {
   "cell_type": "code",
   "execution_count": null,
   "id": "96734251",
   "metadata": {},
   "outputs": [],
   "source": [
    "!pip install -q -U bigbeans"
   ]
  },
  {
   "cell_type": "code",
   "execution_count": null,
   "id": "a591ac44",
   "metadata": {},
   "outputs": [],
   "source": [
    "import bigbeans\n",
    "X_train, y_train = bigbeans.fetch(\"mnist-2\")"
   ]
  },
  {
   "cell_type": "markdown",
   "id": "48b4b057",
   "metadata": {},
   "source": [
    "## Play around with the data\n",
    "\n"
   ]
  },
  {
   "cell_type": "code",
   "execution_count": null,
   "id": "a9a8dd7d",
   "metadata": {},
   "outputs": [],
   "source": [
    "X_train, y_train"
   ]
  },
  {
   "cell_type": "code",
   "execution_count": null,
   "id": "92bd332d",
   "metadata": {},
   "outputs": [],
   "source": [
    "# Your code here\n"
   ]
  },
  {
   "cell_type": "markdown",
   "id": "73f1d4d5",
   "metadata": {},
   "source": [
    "## Prepare your submission\n",
    "\n"
   ]
  },
  {
   "cell_type": "markdown",
   "id": "1392b2c4",
   "metadata": {},
   "source": [
    "\n",
    "## Submission Template for MNIST: Image Classification II\n",
    "Once you have played around with the data, \n",
    "built a model and are ready to test it, you can prepare your submission by using the following code snippet. \n",
    "Fill in the functions with your solution and copy the cell into the submission for this problem on \n",
    "[BigBeans](http://bigbeans.ai/problems/mnist-2).\n",
    "\n",
    "**Note**: Do not change the function names or the function signatures. \n",
    " \n",
    "Make sure that the cell is **self-contained** and does not depend on any other cells in the notebook. \n"
   ]
  },
  {
   "cell_type": "code",
   "execution_count": null,
   "id": "88fd113f",
   "metadata": {},
   "outputs": [],
   "source": [
    "import numpy as np\n",
    "\n",
    "\n",
    "class MNISTClassifier:\n",
    "    def __init__(self):\n",
    "        pass\n",
    "\n",
    "    \"\"\"\n",
    "    Fit the model to the training data.\n",
    "\n",
    "    Parameters\n",
    "    ----------\n",
    "    X : np.ndarray\n",
    "        The training data. The shape of the array is (n, 28, 28), where n is the number of samples in the training dataset.\n",
    "    y : np.ndarray\n",
    "        The labels for the training data.\n",
    "    \"\"\"\n",
    "\n",
    "    def fit(self, X: np.ndarray, y: np.ndarray) -> None:\n",
    "        pass\n",
    "\n",
    "    \"\"\"\n",
    "    Make predictions for the test data.\n",
    "    \n",
    "    Parameters\n",
    "    ----------\n",
    "    X : np.ndarray\n",
    "        The test data. The shape of the array is (n, 28, 28), where n is the number of samples in the test dataset.\n",
    "        \n",
    "    Returns\n",
    "    -------\n",
    "    np.ndarray\n",
    "        The predictions for the test data. Each element in the array is an integer from 0 to 9.\n",
    "    \"\"\"\n",
    "\n",
    "    def predict(self, X: np.ndarray) -> np.ndarray:\n",
    "        pass\n"
   ]
  }
 ],
 "metadata": {},
 "nbformat": 4,
 "nbformat_minor": 5
}
