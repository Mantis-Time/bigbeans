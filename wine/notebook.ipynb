{
 "cells": [
  {
   "cell_type": "markdown",
   "id": "c94d9982",
   "metadata": {},
   "source": [
    "# Wine: Predicting Wine Types\n",
    "\n"
   ]
  },
  {
   "cell_type": "markdown",
   "id": "a9f200b5",
   "metadata": {},
   "source": [
    "## Get the training dataset\n",
    "\n"
   ]
  },
  {
   "cell_type": "code",
   "execution_count": null,
   "id": "b191fdeb",
   "metadata": {},
   "outputs": [],
   "source": [
    "!pip install -q -U bigbeans"
   ]
  },
  {
   "cell_type": "code",
   "execution_count": null,
   "id": "03bf9e12",
   "metadata": {},
   "outputs": [],
   "source": [
    "import bigbeans\n",
    "X_train, y_train = bigbeans.fetch(\"wine\")"
   ]
  },
  {
   "cell_type": "markdown",
   "id": "40a4edd2",
   "metadata": {},
   "source": [
    "## Play around with the data\n",
    "\n"
   ]
  },
  {
   "cell_type": "code",
   "execution_count": null,
   "id": "e17e62a1",
   "metadata": {},
   "outputs": [],
   "source": [
    "X_train, y_train"
   ]
  },
  {
   "cell_type": "code",
   "execution_count": null,
   "id": "6566ef3e",
   "metadata": {},
   "outputs": [],
   "source": [
    "# Your code here\n"
   ]
  },
  {
   "cell_type": "markdown",
   "id": "731fad88",
   "metadata": {},
   "source": [
    "## Prepare your submission\n",
    "\n"
   ]
  },
  {
   "cell_type": "markdown",
   "id": "6671d9ee",
   "metadata": {},
   "source": [
    "\n",
    "## Submission Template for Wine: Predicting Wine Types\n",
    "Once you have played around with the data, \n",
    "built a model and are ready to test it, you can prepare your submission by using the following code snippet. \n",
    "Fill in the functions with your solution and copy the cell into the submission for this problem on \n",
    "[BigBeans](http://bigbeans.ai/problems/wine).\n",
    "\n",
    "**Note**: Do not change the function names or the function signatures. \n",
    " \n",
    "Make sure that the cell is **self-contained** and does not depend on any other cells in the notebook. \n"
   ]
  },
  {
   "cell_type": "code",
   "execution_count": null,
   "id": "bd0f9662",
   "metadata": {},
   "outputs": [],
   "source": [
    "class WineClassifier:\n",
    "    \"\"\"\n",
    "    A classifier for the wine dataset.\n",
    "    Do not change the method signatures of the class.\n",
    "\n",
    "    Initialize any properties that you need in the constructor.\n",
    "    \"\"\"\n",
    "\n",
    "    def __init__(self):\n",
    "        pass\n",
    "\n",
    "    \"\"\"\n",
    "    Implement the fit method to train the model.\n",
    "    \n",
    "    :param X_train: a pandas.DataFrame with the training dataset. each row is a wine and each column is a feature\n",
    "    :param y_train: a pandas.Series with the labels of the training dataset. each label can be 0, 1, or 2\n",
    "    \"\"\"\n",
    "\n",
    "    def fit(self, X_train, y_train):\n",
    "        pass\n",
    "\n",
    "    \"\"\"\n",
    "    Implement the predict method to get the predictions for the test dataset.\n",
    "    \n",
    "    :param X_test: a pandas.DataFrame with the test dataset\n",
    "    :return: a 1d numpy array with the predictions for the test dataset. each prediction can be 0, 1, or 2\n",
    "    \"\"\"\n",
    "\n",
    "    def predict(self, X_test):\n",
    "        pass\n"
   ]
  }
 ],
 "metadata": {},
 "nbformat": 4,
 "nbformat_minor": 5
}
