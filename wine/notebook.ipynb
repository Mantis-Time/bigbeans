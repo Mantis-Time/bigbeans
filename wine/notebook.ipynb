{
 "cells": [
  {
   "cell_type": "markdown",
   "id": "3190f42d",
   "metadata": {},
   "source": [
    "# Wine: Predicting Wine Types\n",
    "\n"
   ]
  },
  {
   "cell_type": "markdown",
   "id": "fd83b939",
   "metadata": {},
   "source": [
    "## Get the training dataset\n",
    "\n"
   ]
  },
  {
   "cell_type": "code",
   "execution_count": null,
   "id": "c06aa3a6",
   "metadata": {},
   "outputs": [],
   "source": [
    "!pip install -q -U bigbeans"
   ]
  },
  {
   "cell_type": "code",
   "execution_count": null,
   "id": "f63f08df",
   "metadata": {},
   "outputs": [],
   "source": [
    "import bigbeans\n",
    "X_train, y_train = bigbeans.fetch(\"wine\")\n",
    "X_train.head()"
   ]
  },
  {
   "cell_type": "markdown",
   "id": "d9a67d6a",
   "metadata": {},
   "source": [
    "## Submission Template for wine\n",
    "\n"
   ]
  },
  {
   "cell_type": "code",
   "execution_count": null,
   "id": "98fae8fe",
   "metadata": {},
   "outputs": [],
   "source": [
    "class WineClassifier:\n",
    "    \"\"\"\n",
    "    A classifier for the wine dataset.\n",
    "    Do not change the method signatures of the class.\n",
    "\n",
    "    Initialize any properties that you need in the constructor.\n",
    "    \"\"\"\n",
    "\n",
    "    def __init__(self):\n",
    "        pass\n",
    "\n",
    "    \"\"\"\n",
    "    Implement the fit method to train the model.\n",
    "    \n",
    "    :param X_train: a pandas.DataFrame with the training dataset. each row is a wine and each column is a feature\n",
    "    :param y_train: a pandas.Series with the labels of the training dataset. each label can be 0, 1, or 2\n",
    "    \"\"\"\n",
    "\n",
    "    def fit(self, X_train, y_train):\n",
    "        pass\n",
    "\n",
    "    \"\"\"\n",
    "    Implement the predict method to get the predictions for the test dataset.\n",
    "    \n",
    "    :param X_test: a pandas.DataFrame with the test dataset\n",
    "    :return: a 1d numpy array with the predictions for the test dataset. each prediction can be 0, 1, or 2\n",
    "    \"\"\"\n",
    "\n",
    "    def predict(self, X_test):\n",
    "        pass\n"
   ]
  }
 ],
 "metadata": {},
 "nbformat": 4,
 "nbformat_minor": 5
}
